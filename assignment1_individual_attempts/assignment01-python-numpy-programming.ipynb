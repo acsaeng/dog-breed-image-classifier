{
 "cells": [
  {
   "cell_type": "markdown",
   "metadata": {},
   "source": [
    "# Assignment #01\n",
    "\n",
    "This assignment is composed of multiple Python and NumPy programming exercises. The deliverable of this assignment is this jupyter-notebook completed with your solution.\n",
    "\n",
    "The delivery instructions are the following:\n",
    "    - Create a GitHub repository for your team. You are free to choose its name. This repository will be used to deliver the programming assignments and the code of your team's final project.\n",
    "    - Create a folder assignment-01 in the repository. Put the jupyter-notebook with your solution in this repository and post the repository link in your team's D2L dropbox for the assignment.\n",
    "\n",
    "You are being assessed based on:\n",
    "\n",
    "1. Code execution - 25% \n",
    "2. Clarity of the code (e.g., easy to follow, has pertinent comments, etc.) - 25%\n",
    "3. Proper usage of the techniques seen in class - 25%\n",
    "    - remember to avoid explicit Python loops!  \n",
    "4. Quality and correctness of the results - 25%\n",
    "\n",
    "More details about the assessment are available in the rubric document in the class GitHub repository.\n",
    "\n",
    "Points distribution:\n",
    "- Question 2-21: 3 points per question \n",
    "- Questions 22-26: 8 points per question (total 40)\n",
    "- Total: 100 points"
   ]
  },
  {
   "cell_type": "code",
   "execution_count": 3,
   "metadata": {},
   "outputs": [],
   "source": [
    "import matplotlib.pylab as plt"
   ]
  },
  {
   "cell_type": "markdown",
   "metadata": {},
   "source": [
    "**1. Import the numpy package under the name np**"
   ]
  },
  {
   "cell_type": "code",
   "execution_count": 4,
   "metadata": {},
   "outputs": [],
   "source": [
    "import numpy as np"
   ]
  },
  {
   "cell_type": "markdown",
   "metadata": {},
   "source": [
    "**2. Print the numpy version and the configuration**"
   ]
  },
  {
   "cell_type": "code",
   "execution_count": 5,
   "metadata": {},
   "outputs": [
    {
     "name": "stdout",
     "output_type": "stream",
     "text": [
      "NumPy version: 1.21.2\n",
      "NumPy configuration:\n",
      "blas_mkl_info:\n",
      "    libraries = ['mkl_rt']\n",
      "    library_dirs = ['C:/Users/acsaeng/anaconda3/envs/enel645\\\\Library\\\\lib']\n",
      "    define_macros = [('SCIPY_MKL_H', None), ('HAVE_CBLAS', None)]\n",
      "    include_dirs = ['C:/Users/acsaeng/anaconda3/envs/enel645\\\\Library\\\\include']\n",
      "blas_opt_info:\n",
      "    libraries = ['mkl_rt']\n",
      "    library_dirs = ['C:/Users/acsaeng/anaconda3/envs/enel645\\\\Library\\\\lib']\n",
      "    define_macros = [('SCIPY_MKL_H', None), ('HAVE_CBLAS', None)]\n",
      "    include_dirs = ['C:/Users/acsaeng/anaconda3/envs/enel645\\\\Library\\\\include']\n",
      "lapack_mkl_info:\n",
      "    libraries = ['mkl_rt']\n",
      "    library_dirs = ['C:/Users/acsaeng/anaconda3/envs/enel645\\\\Library\\\\lib']\n",
      "    define_macros = [('SCIPY_MKL_H', None), ('HAVE_CBLAS', None)]\n",
      "    include_dirs = ['C:/Users/acsaeng/anaconda3/envs/enel645\\\\Library\\\\include']\n",
      "lapack_opt_info:\n",
      "    libraries = ['mkl_rt']\n",
      "    library_dirs = ['C:/Users/acsaeng/anaconda3/envs/enel645\\\\Library\\\\lib']\n",
      "    define_macros = [('SCIPY_MKL_H', None), ('HAVE_CBLAS', None)]\n",
      "    include_dirs = ['C:/Users/acsaeng/anaconda3/envs/enel645\\\\Library\\\\include']\n",
      "Supported SIMD extensions in this NumPy install:\n",
      "    baseline = SSE,SSE2,SSE3\n",
      "    found = SSSE3,SSE41,POPCNT,SSE42,AVX,F16C,FMA3,AVX2\n",
      "    not found = AVX512F,AVX512CD,AVX512_SKX,AVX512_CLX,AVX512_CNL\n",
      "None\n"
     ]
    }
   ],
   "source": [
    "# Print the NumPy version\n",
    "print(\"NumPy version:\", np.__version__)\n",
    "\n",
    "# Print the NumPy configuration\n",
    "print(\"NumPy configuration:\")\n",
    "print(np.__config__.show())"
   ]
  },
  {
   "cell_type": "markdown",
   "metadata": {},
   "source": [
    "**3. Create a 1D array of zeros of size 10 of type float32**"
   ]
  },
  {
   "cell_type": "code",
   "execution_count": 6,
   "metadata": {},
   "outputs": [
    {
     "name": "stdout",
     "output_type": "stream",
     "text": [
      "Array: [0. 0. 0. 0. 0. 0. 0. 0. 0. 0.]\n",
      "Type: float32\n"
     ]
    }
   ],
   "source": [
    "# Generate array according to the specifications\n",
    "q3 = np.zeros((10), dtype='float32')\n",
    "\n",
    "# Printing the array and type\n",
    "print(\"Array:\", q3)\n",
    "print(\"Type:\", q3.dtype)"
   ]
  },
  {
   "cell_type": "markdown",
   "metadata": {},
   "source": [
    "**4. Print the memory size of the array below**"
   ]
  },
  {
   "cell_type": "code",
   "execution_count": 7,
   "metadata": {},
   "outputs": [
    {
     "name": "stdout",
     "output_type": "stream",
     "text": [
      "Array memory size: 3072 bytes\n"
     ]
    }
   ],
   "source": [
    "Z = np.zeros((32, 12))\n",
    "\n",
    "# Obtain the memory size of the array by using the 'nbytes' attribute\n",
    "print(\"Array memory size: {} bytes\".format(Z.nbytes))"
   ]
  },
  {
   "cell_type": "markdown",
   "metadata": {},
   "source": [
    "**5. Create a 1D array with values ranging from 10 to 58**"
   ]
  },
  {
   "cell_type": "code",
   "execution_count": 8,
   "metadata": {},
   "outputs": [
    {
     "name": "stdout",
     "output_type": "stream",
     "text": [
      "1D array containing values [10, 58]:\n",
      " [10 11 12 13 14 15 16 17 18 19 20 21 22 23 24 25 26 27 28 29 30 31 32 33\n",
      " 34 35 36 37 38 39 40 41 42 43 44 45 46 47 48 49 50 51 52 53 54 55 56 57\n",
      " 58]\n"
     ]
    }
   ],
   "source": [
    "# Generate a 1D array containing values 10 to 58\n",
    "q5 = np.arange(10, 59)\n",
    "\n",
    "print(\"1D array containing values [10, 58]:\\n\", q5)"
   ]
  },
  {
   "cell_type": "markdown",
   "metadata": {},
   "source": [
    "**6. Reverse the order of the values in the vector (first element becomes last)**"
   ]
  },
  {
   "cell_type": "code",
   "execution_count": 9,
   "metadata": {},
   "outputs": [
    {
     "name": "stdout",
     "output_type": "stream",
     "text": [
      "Original array: [0 1 2 3 4 5 6 7 8 9]\n",
      "Reversed array: [9 8 7 6 5 4 3 2 1 0]\n"
     ]
    }
   ],
   "source": [
    "a = np.arange(10)\n",
    "\n",
    "# Reverse the order of the array (note that this is a shallow copy of a)\n",
    "a_reversed = a[::-1]\n",
    "\n",
    "print(\"Original array:\", a)\n",
    "print(\"Reversed array:\", a_reversed)"
   ]
  },
  {
   "cell_type": "markdown",
   "metadata": {},
   "source": [
    "**7. Create a 3x3 matrix with values ranging from 0 to 8**"
   ]
  },
  {
   "cell_type": "code",
   "execution_count": 10,
   "metadata": {},
   "outputs": [
    {
     "name": "stdout",
     "output_type": "stream",
     "text": [
      "3x3 array containing values [0, 8]:\n",
      " [[0 1 2]\n",
      " [3 4 5]\n",
      " [6 7 8]]\n"
     ]
    }
   ],
   "source": [
    "# Generate a 1D array with values of 0 to 8 and reshape it to be 3x3 \n",
    "q7 = np.arange(9).reshape(3, 3)\n",
    "\n",
    "print(\"3x3 array containing values [0, 8]:\\n\", q7)"
   ]
  },
  {
   "cell_type": "markdown",
   "metadata": {},
   "source": [
    "**8. Create a 3x3 identity matrix**"
   ]
  },
  {
   "cell_type": "code",
   "execution_count": 11,
   "metadata": {},
   "outputs": [
    {
     "name": "stdout",
     "output_type": "stream",
     "text": [
      "3x3 identity matrix:\n",
      " [[1. 0. 0.]\n",
      " [0. 1. 0.]\n",
      " [0. 0. 1.]]\n"
     ]
    }
   ],
   "source": [
    "# Generate a 3x3 identity matrix\n",
    "q8 = np.identity(3)\n",
    "\n",
    "print(\"3x3 identity matrix:\\n\", q8)"
   ]
  },
  {
   "cell_type": "markdown",
   "metadata": {},
   "source": [
    "**9. Find and print the maximum values of each column in the array below** "
   ]
  },
  {
   "cell_type": "code",
   "execution_count": 12,
   "metadata": {},
   "outputs": [
    {
     "name": "stdout",
     "output_type": "stream",
     "text": [
      "Maximum value of each column:\n",
      " [0.71818134 0.9519471  0.93754752 0.74977056 0.97008057 0.79244627\n",
      " 0.83446611 0.74871567 0.93658422 0.86620184 0.98350357]\n"
     ]
    }
   ],
   "source": [
    "Z = np.random.random((10,11))\n",
    "\n",
    "# Obtain the max value of each column\n",
    "Z_max_col = Z.max(axis=0)\n",
    "\n",
    "print(\"Maximum value of each column:\\n\", Z_max_col)"
   ]
  },
  {
   "cell_type": "markdown",
   "metadata": {},
   "source": [
    "**10. Create a $7 \\times 7$ array with 1s on the borders (first row and column, last row and columns) and 0s everywhere else**"
   ]
  },
  {
   "cell_type": "code",
   "execution_count": 13,
   "metadata": {},
   "outputs": [
    {
     "name": "stdout",
     "output_type": "stream",
     "text": [
      "7x7 array with ones on the border and zeros everywhere else:\n",
      " [[1. 1. 1. 1. 1. 1. 1.]\n",
      " [1. 0. 0. 0. 0. 0. 1.]\n",
      " [1. 0. 0. 0. 0. 0. 1.]\n",
      " [1. 0. 0. 0. 0. 0. 1.]\n",
      " [1. 0. 0. 0. 0. 0. 1.]\n",
      " [1. 0. 0. 0. 0. 0. 1.]\n",
      " [1. 1. 1. 1. 1. 1. 1.]]\n"
     ]
    }
   ],
   "source": [
    "# Generate a 7x7 matrix of ones\n",
    "q10 = np.ones((7, 7))\n",
    "\n",
    "# Fill the inner elements with zeros by specifying the proper indices\n",
    "q10[1:-1, 1:-1] = 0\n",
    "\n",
    "print(\"7x7 array with ones on the border and zeros everywhere else:\\n\", q10)"
   ]
  },
  {
   "cell_type": "markdown",
   "metadata": {},
   "source": [
    "**11. Pad the existing array below with zeros (i.e., add additional rows and columns with zeros). Use the NumPy pad function.**"
   ]
  },
  {
   "cell_type": "code",
   "execution_count": 14,
   "metadata": {},
   "outputs": [
    {
     "name": "stdout",
     "output_type": "stream",
     "text": [
      "Original array:\n",
      " [[1. 1. 1. 1. 1.]\n",
      " [1. 1. 1. 1. 1.]\n",
      " [1. 1. 1. 1. 1.]\n",
      " [1. 1. 1. 1. 1.]\n",
      " [1. 1. 1. 1. 1.]]\n",
      "Padded array:\n",
      " [[0. 0. 0. 0. 0. 0. 0.]\n",
      " [0. 1. 1. 1. 1. 1. 0.]\n",
      " [0. 1. 1. 1. 1. 1. 0.]\n",
      " [0. 1. 1. 1. 1. 1. 0.]\n",
      " [0. 1. 1. 1. 1. 1. 0.]\n",
      " [0. 1. 1. 1. 1. 1. 0.]\n",
      " [0. 0. 0. 0. 0. 0. 0.]]\n"
     ]
    }
   ],
   "source": [
    "Z = np.ones((5, 5))\n",
    "\n",
    "# Pad the array with zeros\n",
    "Z_padded = np.pad(Z, (1, 1), mode='constant')\n",
    "\n",
    "print(\"Original array:\\n\", Z)\n",
    "print(\"Padded array:\\n\", Z_padded)"
   ]
  },
  {
   "cell_type": "markdown",
   "metadata": {},
   "source": [
    "**12. Extract the integer part of the random array of positive numbers below**"
   ]
  },
  {
   "cell_type": "code",
   "execution_count": 15,
   "metadata": {},
   "outputs": [
    {
     "name": "stdout",
     "output_type": "stream",
     "text": [
      "Original array:\n",
      " [9.26636575 3.77301499 3.0591517  0.40060605 0.90519636 3.94435407\n",
      " 2.12518588 7.23853491 1.08583106 6.58554815]\n",
      "Integer array:\n",
      " [9 3 3 0 0 3 2 7 1 6]\n"
     ]
    }
   ],
   "source": [
    "Z = np.random.uniform(0, 10, 10)\n",
    "\n",
    "# Take the integer part of each element in the array\n",
    "Z_int = Z.astype(int)\n",
    "\n",
    "print(\"Original array:\\n\", Z)\n",
    "print(\"Integer array:\\n\", Z_int)"
   ]
  },
  {
   "cell_type": "markdown",
   "metadata": {},
   "source": [
    "**13. Create a 5x5 matrix with rows with equal values ranging from 0 to 4 (i.e., [0, 1, 2, 3, 4])**\n",
    "\n",
    "*Hint:* consider using NumPy broadcasting or the tile function*"
   ]
  },
  {
   "cell_type": "code",
   "execution_count": 16,
   "metadata": {},
   "outputs": [
    {
     "name": "stdout",
     "output_type": "stream",
     "text": [
      "5x5 matrix with rows ranging from 0 to 5:\n",
      " [[0 1 2 3 4 5]\n",
      " [0 1 2 3 4 5]\n",
      " [0 1 2 3 4 5]\n",
      " [0 1 2 3 4 5]\n",
      " [0 1 2 3 4 5]]\n"
     ]
    }
   ],
   "source": [
    "# Generate an array with rows containing values from 0 to 5\n",
    "q13 = np.tile([0, 1, 2, 3, 4, 5], (5, 1))\n",
    "\n",
    "print(\"5x5 matrix with rows ranging from 0 to 5:\\n\", q13)"
   ]
  },
  {
   "cell_type": "markdown",
   "metadata": {},
   "source": [
    "**14. Create a vector of size 10 with values ranging from 0 to 1 (0 and 1 not included)**\n",
    "\n",
    "*Hint: Consider using the linspace function*"
   ]
  },
  {
   "cell_type": "code",
   "execution_count": 17,
   "metadata": {},
   "outputs": [
    {
     "name": "stdout",
     "output_type": "stream",
     "text": [
      "[0.09090909 0.18181818 0.27272727 0.36363636 0.45454545 0.54545455\n",
      " 0.63636364 0.72727273 0.81818182 0.90909091]\n"
     ]
    }
   ],
   "source": [
    "# Generate an array ranging from 0 to 1, then slice array to exclude 0 and set linspace() endpoint argument to 'False' to exclude 1\n",
    "q14 = np.linspace(0, 1, 11, endpoint=False)[1:]\n",
    "\n",
    "print(q14)"
   ]
  },
  {
   "cell_type": "markdown",
   "metadata": {},
   "source": [
    "**15. Create a random vector of size 10 and sort it**"
   ]
  },
  {
   "cell_type": "code",
   "execution_count": 18,
   "metadata": {},
   "outputs": [
    {
     "name": "stdout",
     "output_type": "stream",
     "text": [
      "Random array:\n",
      " [0.37341214 0.14721701 0.11579707 0.11019488 0.82704975 0.38835621\n",
      " 0.40544592 0.16422442 0.20104908 0.17361977]\n",
      "Sorted array:\n",
      " [0.11019488 0.11579707 0.14721701 0.16422442 0.17361977 0.20104908\n",
      " 0.37341214 0.38835621 0.40544592 0.82704975]\n"
     ]
    }
   ],
   "source": [
    "# Generate randomized array of size 10\n",
    "q15_random = np.random.rand(10)\n",
    "\n",
    "# Sort the randomized array\n",
    "q15_sorted = np.sort(q15_random)\n",
    "\n",
    "print(\"Random array:\\n\", q15_random)\n",
    "print(\"Sorted array:\\n\", q15_sorted)"
   ]
  },
  {
   "cell_type": "markdown",
   "metadata": {},
   "source": [
    "**16. Consider the cartesian coordinates below (X and Y), convert them to polar coordinates (R and T)**"
   ]
  },
  {
   "cell_type": "code",
   "execution_count": 19,
   "metadata": {},
   "outputs": [
    {
     "name": "stdout",
     "output_type": "stream",
     "text": [
      "Cartesian coordinates:\n",
      "X = [0.05175005 0.48430893 0.78443653 0.82939047 0.27297735 0.0548432\n",
      " 0.46071557 0.92957438 0.68378861 0.6047638 ]\n",
      "Y = [0.02966453 0.37652856 0.16956792 0.78771025 0.31975387 0.98131054\n",
      " 0.50168395 0.15675182 0.79562655 0.59731635]\n",
      "\n",
      "Polar coordinates:\n",
      "R = [0.05964941 0.61345652 0.80255464 1.14384264 0.42042737 0.98284188\n",
      " 0.68113554 0.94269808 1.04908936 0.85001534]\n",
      "T (radians) = [0.52050092 0.66084222 0.21288966 0.75962921 0.86415187 1.51496669\n",
      " 0.82794146 0.16705593 0.8608507  0.77920277]\n"
     ]
    }
   ],
   "source": [
    "Z = np.random.random((10,2))\n",
    "X, Y = Z[:, 0], Z[:, 1]\n",
    "\n",
    "# Convert Cartesian coordinates to polar coordinates using the corresponding formula for radius (R) and angle (T)\n",
    "R = np.sqrt(X ** 2 + Y ** 2)\n",
    "T = np.arctan2(Y, X)\n",
    "\n",
    "print(\"Cartesian coordinates:\")\n",
    "print(\"X =\", X)\n",
    "print(\"Y =\", Y)\n",
    "\n",
    "print(\"\\nPolar coordinates:\")\n",
    "print(\"R =\", R)\n",
    "print(\"T (radians) =\", T)\n",
    "\n"
   ]
  },
  {
   "cell_type": "markdown",
   "metadata": {},
   "source": [
    "**17. Create random vector of size 10 and replace the maximum value by 0**"
   ]
  },
  {
   "cell_type": "code",
   "execution_count": 20,
   "metadata": {},
   "outputs": [
    {
     "name": "stdout",
     "output_type": "stream",
     "text": [
      "Randomized array:\n",
      " [0.39415231 0.57195938 0.3847846  0.73046161 0.95634619 0.16444477\n",
      " 0.57501276 0.44244876 0.48458339 0.50788394]\n",
      "Max value replaced array:\n",
      " [0.39415231 0.57195938 0.3847846  0.73046161 0.         0.16444477\n",
      " 0.57501276 0.44244876 0.48458339 0.50788394]\n"
     ]
    }
   ],
   "source": [
    "# Generate randomized array of size 10\n",
    "q17_randomized = np.random.rand(10)\n",
    "\n",
    "# Replace maximum value with 0 using a boolean mask\n",
    "q17_max_replaced = q17_randomized.copy()\n",
    "q17_max_replaced[q17_randomized == q17_randomized.max()] = 0\n",
    "\n",
    "print(\"Randomized array:\\n\", q17_randomized)\n",
    "print(\"Max value replaced array:\\n\", q17_max_replaced)\n"
   ]
  },
  {
   "cell_type": "markdown",
   "metadata": {},
   "source": [
    "**18. Find the nearest value from a given value (z) in an array (Z)**"
   ]
  },
  {
   "cell_type": "code",
   "execution_count": 21,
   "metadata": {},
   "outputs": [
    {
     "name": "stdout",
     "output_type": "stream",
     "text": [
      "Orginal array:\n",
      " [0.66911007 0.62539982 0.71991741 0.91972217 0.1430565  0.05302498\n",
      " 0.7994744  0.86488647 0.27931827 0.97453054]\n",
      "Nearest value to z = 0.5:\n",
      " 0.6253998178451811\n"
     ]
    }
   ],
   "source": [
    "Z = np.random.uniform(0, 1, 10)\n",
    "z = 0.5\n",
    "\n",
    "# Retrive the nearest value by obtainign the index of the element in Z with the smallest difference to z\n",
    "q18 = Z[np.abs(Z - z).argmin()]\n",
    "\n",
    "print(\"Orginal array:\\n\", Z)\n",
    "print(\"Nearest value to z = 0.5:\\n\", q18)"
   ]
  },
  {
   "cell_type": "markdown",
   "metadata": {},
   "source": [
    "**19. Consider the vector [5, 4, 3, 2, 1], how to build a new vector with 3 consecutive zeros interleaved between each value?**"
   ]
  },
  {
   "cell_type": "code",
   "execution_count": 22,
   "metadata": {},
   "outputs": [
    {
     "name": "stdout",
     "output_type": "stream",
     "text": [
      "Original array:\n",
      " [5 4 3 2 1]\n",
      "Interleaved array:\n",
      " [5 0 0 0 4 0 0 0 3 0 0 0 2 0 0 0 1]\n"
     ]
    }
   ],
   "source": [
    "Z = np.arange(6)[:0:-1]\n",
    "\n",
    "# Generate zeros array of appropriate length\n",
    "q19 = np.zeros(4 * ((len(Z) - 1)) + 1, dtype=int)\n",
    "\n",
    "# Replace every fourth element with an element in Z\n",
    "q19[::4] = Z\n",
    "\n",
    "print(\"Original array:\\n\", Z)\n",
    "print(\"Interleaved array:\\n\", q19)"
   ]
  },
  {
   "cell_type": "markdown",
   "metadata": {},
   "source": [
    "**20. Consider an array of dimension (5, 5, 3), how to mulitply it element-wise by an array with dimensions (5, 5) - i.e., (5, 5, 0)$\\times$(5, 5), (5, 5, 1)$\\times$(5, 5), (5, 5, 2)$\\times$(5, 5)**"
   ]
  },
  {
   "cell_type": "code",
   "execution_count": 23,
   "metadata": {},
   "outputs": [
    {
     "name": "stdout",
     "output_type": "stream",
     "text": [
      "Element-wise product:\n",
      " [[[2. 2. 2.]\n",
      "  [2. 2. 2.]\n",
      "  [2. 2. 2.]\n",
      "  [2. 2. 2.]\n",
      "  [2. 2. 2.]]\n",
      "\n",
      " [[2. 2. 2.]\n",
      "  [2. 2. 2.]\n",
      "  [2. 2. 2.]\n",
      "  [2. 2. 2.]\n",
      "  [2. 2. 2.]]\n",
      "\n",
      " [[2. 2. 2.]\n",
      "  [2. 2. 2.]\n",
      "  [2. 2. 2.]\n",
      "  [2. 2. 2.]\n",
      "  [2. 2. 2.]]\n",
      "\n",
      " [[2. 2. 2.]\n",
      "  [2. 2. 2.]\n",
      "  [2. 2. 2.]\n",
      "  [2. 2. 2.]\n",
      "  [2. 2. 2.]]\n",
      "\n",
      " [[2. 2. 2.]\n",
      "  [2. 2. 2.]\n",
      "  [2. 2. 2.]\n",
      "  [2. 2. 2.]\n",
      "  [2. 2. 2.]]]\n"
     ]
    }
   ],
   "source": [
    "A = np.ones((5, 5, 3))\n",
    "B = 2 * np.ones((5, 5))\n",
    "\n",
    "# Add third dimension to B and multiply with A\n",
    "q20 = A * B.reshape(5, 5, 1)\n",
    "\n",
    "print(\"Element-wise product:\\n\", q20)"
   ]
  },
  {
   "cell_type": "markdown",
   "metadata": {},
   "source": [
    "**21. Swap the first and second rows of the 2D array below**"
   ]
  },
  {
   "cell_type": "code",
   "execution_count": 24,
   "metadata": {},
   "outputs": [
    {
     "name": "stdout",
     "output_type": "stream",
     "text": [
      "Array before swapping rows:\n",
      " [[ 0  1  2  3  4]\n",
      " [ 5  6  7  8  9]\n",
      " [10 11 12 13 14]\n",
      " [15 16 17 18 19]\n",
      " [20 21 22 23 24]\n",
      " [25 26 27 28 29]]\n",
      "\n",
      "Array after swapping rows:\n",
      " [[ 5  6  7  8  9]\n",
      " [ 0  1  2  3  4]\n",
      " [10 11 12 13 14]\n",
      " [15 16 17 18 19]\n",
      " [20 21 22 23 24]\n",
      " [25 26 27 28 29]]\n"
     ]
    }
   ],
   "source": [
    "W = np.arange(30).reshape(6, 5)\n",
    "print(\"Array before swapping rows:\\n\", W)\n",
    "print()\n",
    "\n",
    "# Use advanced slicing to swap rows\n",
    "W[[0, 1], :] = W[[1, 0], :]\n",
    "\n",
    "print(\"Array after swapping rows:\\n\", W)"
   ]
  },
  {
   "cell_type": "markdown",
   "metadata": {},
   "source": [
    "**22. Write a function that receives as input a 2D Boolean NumPy array and outputs the coordinates of the minimal bounding-box\n",
    "that encloses all non-zero elements in the input array**\n",
    "\n",
    "**Tip:** Search for the functions non-zero and where in the NumPy documentation.\n",
    "\n",
    "\n",
    "<img src=\"./bbox.png\" width=\"150\" /> "
   ]
  },
  {
   "cell_type": "code",
   "execution_count": 107,
   "metadata": {},
   "outputs": [
    {
     "name": "stdout",
     "output_type": "stream",
     "text": [
      "Minimal bounding-box: ((29, 50), (342, 431))\n"
     ]
    }
   ],
   "source": [
    "def bbox(img):\n",
    "    # Obtain the row and column indices of the non-zero elements as a tuple\n",
    "    bb_idx = np.nonzero(img)\n",
    "\n",
    "    # Retrieve the minimum and maximum rows and columns indices to get the minimal bounding-box\n",
    "    r1 = bb_idx[0].min()\n",
    "    c1 = bb_idx[1].min()\n",
    "    r2 = bb_idx[0].max()\n",
    "    c2 = bb_idx[1].max()\n",
    "    \n",
    "    return (r1, c1), (r2, c2)\n",
    "\n",
    "\n",
    "from PIL import Image\n",
    "\n",
    "img = np.array(Image.open('./bin_image.png').convert('L')) > 0\n",
    "print(\"Minimal bounding-box:\", bbox(img))"
   ]
  },
  {
   "cell_type": "markdown",
   "metadata": {},
   "source": [
    "**23. Write a function to compute the average over a sliding window of length N over a 1D array**\n",
    "\n",
    "*Example:* [1, 2, 3, 4, 5, 6, 7, 8, 9], N = 3 -> [2, 5, 8]"
   ]
  },
  {
   "cell_type": "code",
   "execution_count": 106,
   "metadata": {},
   "outputs": [
    {
     "name": "stdout",
     "output_type": "stream",
     "text": [
      "Sliding window moving average: [ 1.  4.  7. 10. 13. 16. 19. 22. 25. 28.]\n"
     ]
    }
   ],
   "source": [
    "def moving_average(x, N=3):\n",
    "    # Reshape the array to have multiple rows for each N element and take the average of each row\n",
    "    return np.mean(x.reshape(-1, 3), axis=1)\n",
    "\n",
    "\n",
    "a = np.arange(30)\n",
    "N = 3\n",
    "print(\"Sliding window moving average:\", moving_average(a, N))"
   ]
  },
  {
   "cell_type": "markdown",
   "metadata": {},
   "source": [
    "**24.  Given a sorted 1D array C that corresponds to a bincount, how to produce an array A such that np.bincount(A) == C?**\n",
    "\n",
    "*Example:* C = [3, 2, 4] -> D = [0, 0, 0, 1, 1, 2, 2, 2, 2]\n",
    "\n",
    "*Tip:* Consider using the NumPy repeat function"
   ]
  },
  {
   "cell_type": "code",
   "execution_count": 100,
   "metadata": {},
   "outputs": [
    {
     "name": "stdout",
     "output_type": "stream",
     "text": [
      "bincount array C = [0 2 1 1 2 0 1]\n",
      "Inverse bincount array A = [1 1 2 3 4 4 6]\n"
     ]
    }
   ],
   "source": [
    "C = np.bincount([1, 1, 2, 3, 4, 4, 6])\n",
    "print(\"bincount array C =\", C)\n",
    "\n",
    "# Repeat the elements in A using the values of C\n",
    "A = np.repeat(np.arange(C.size), C)\n",
    "\n",
    "print(\"Inverse bincount array A =\", A)"
   ]
  },
  {
   "cell_type": "markdown",
   "metadata": {},
   "source": [
    "**25. Find the most frequent value in the array below?**"
   ]
  },
  {
   "cell_type": "code",
   "execution_count": 69,
   "metadata": {},
   "outputs": [
    {
     "name": "stdout",
     "output_type": "stream",
     "text": [
      "Most frequent array value: 4\n"
     ]
    }
   ],
   "source": [
    "Z = np.random.randint(0, 10, 50)\n",
    "\n",
    "# Record the instances of each number in the array\n",
    "counts = np.bincount(Z)\n",
    "\n",
    "# Retrive the number with the maximum number of instances\n",
    "q25 = np.argmax(counts)\n",
    "\n",
    "print(\"Most frequent array value:\", q25)"
   ]
  },
  {
   "cell_type": "markdown",
   "metadata": {},
   "source": [
    "**26. Write a function to return the n largest values of an array** "
   ]
  },
  {
   "cell_type": "code",
   "execution_count": 95,
   "metadata": {},
   "outputs": [
    {
     "name": "stdout",
     "output_type": "stream",
     "text": [
      "n largest values of the array: [9999 9998 9997 9996 9995]\n"
     ]
    }
   ],
   "source": [
    "def nlargest(a, n=5):\n",
    "    # Sort the array in ascending order, reverse array to descending order, and return the first n elements\n",
    "    return a.sort()[::-1][0:n]\n",
    "\n",
    "Z = np.arange(10000)\n",
    "np.random.shuffle(Z)\n",
    "n = 5\n",
    "print(\"n largest values of the array:\", nlargest(Z, n))    "
   ]
  }
 ],
 "metadata": {
  "kernelspec": {
   "display_name": "Python 3",
   "language": "python",
   "name": "python3"
  },
  "language_info": {
   "codemirror_mode": {
    "name": "ipython",
    "version": 3
   },
   "file_extension": ".py",
   "mimetype": "text/x-python",
   "name": "python",
   "nbconvert_exporter": "python",
   "pygments_lexer": "ipython3",
   "version": "3.9.7"
  }
 },
 "nbformat": 4,
 "nbformat_minor": 5
}
