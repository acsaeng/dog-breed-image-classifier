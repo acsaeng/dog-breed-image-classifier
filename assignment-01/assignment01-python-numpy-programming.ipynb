{
 "cells": [
  {
   "cell_type": "markdown",
   "metadata": {},
   "source": [
    "# Assignment #01\n",
    "\n",
    "This assignment is composed of multiple Python and NumPy programming exercises. The deliverable of this assignment is this Jupyter notebook completed with your solution.\n",
    "\n",
    "The delivery instructions are the following:\n",
    "    - Create a GitHub repository for your team. You are free to choose its name. This repository will be used to deliver the programming assignments and the code of your team's final project.\n",
    "    - Create a folder assignment-01 in the repository. Put the Jupyter notebook with your solution in this repository and post the repository link in your team's D2L dropbox for the assignment.\n",
    "\n",
    "You are being assessed based on:\n",
    "\n",
    "1. Code execution - 25% \n",
    "2. Clarity of the code (e.g., easy to follow, has pertinent comments, etc.) - 25%\n",
    "3. Proper usage of the techniques seen in class - 25%\n",
    "    - Remember to avoid explicit Python loops!  \n",
    "4. Quality and correctness of the results - 25%\n",
    "\n",
    "More details about the assessment are available in the rubric document in the class GitHub repository.\n",
    "\n",
    "Points distribution:\n",
    "- Question 2-21: 3 points per question \n",
    "- Questions 22-26: 8 points per question (total 40)\n",
    "- Total: 100 points"
   ]
  },
  {
   "cell_type": "code",
   "execution_count": 2,
   "metadata": {},
   "outputs": [],
   "source": [
    "import matplotlib.pylab as plt"
   ]
  },
  {
   "cell_type": "markdown",
   "metadata": {},
   "source": [
    "**1. Import the NumPy package under the name np**"
   ]
  },
  {
   "cell_type": "code",
   "execution_count": 3,
   "metadata": {},
   "outputs": [],
   "source": [
    "import numpy as np"
   ]
  },
  {
   "cell_type": "markdown",
   "metadata": {},
   "source": [
    "**2. Print the NumPy version and the configuration**"
   ]
  },
  {
   "cell_type": "code",
   "execution_count": 5,
   "metadata": {},
   "outputs": [
    {
     "name": "stdout",
     "output_type": "stream",
     "text": [
      "NumPy version: 1.21.2\n",
      "NumPy configuration:\n",
      "blas_mkl_info:\n",
      "    libraries = ['mkl_rt']\n",
      "    library_dirs = ['C:/Users/acsaeng/anaconda3/envs/enel645\\\\Library\\\\lib']\n",
      "    define_macros = [('SCIPY_MKL_H', None), ('HAVE_CBLAS', None)]\n",
      "    include_dirs = ['C:/Users/acsaeng/anaconda3/envs/enel645\\\\Library\\\\include']\n",
      "blas_opt_info:\n",
      "    libraries = ['mkl_rt']\n",
      "    library_dirs = ['C:/Users/acsaeng/anaconda3/envs/enel645\\\\Library\\\\lib']\n",
      "    define_macros = [('SCIPY_MKL_H', None), ('HAVE_CBLAS', None)]\n",
      "    include_dirs = ['C:/Users/acsaeng/anaconda3/envs/enel645\\\\Library\\\\include']\n",
      "lapack_mkl_info:\n",
      "    libraries = ['mkl_rt']\n",
      "    library_dirs = ['C:/Users/acsaeng/anaconda3/envs/enel645\\\\Library\\\\lib']\n",
      "    define_macros = [('SCIPY_MKL_H', None), ('HAVE_CBLAS', None)]\n",
      "    include_dirs = ['C:/Users/acsaeng/anaconda3/envs/enel645\\\\Library\\\\include']\n",
      "lapack_opt_info:\n",
      "    libraries = ['mkl_rt']\n",
      "    library_dirs = ['C:/Users/acsaeng/anaconda3/envs/enel645\\\\Library\\\\lib']\n",
      "    define_macros = [('SCIPY_MKL_H', None), ('HAVE_CBLAS', None)]\n",
      "    include_dirs = ['C:/Users/acsaeng/anaconda3/envs/enel645\\\\Library\\\\include']\n",
      "Supported SIMD extensions in this NumPy install:\n",
      "    baseline = SSE,SSE2,SSE3\n",
      "    found = SSSE3,SSE41,POPCNT,SSE42,AVX,F16C,FMA3,AVX2\n",
      "    not found = AVX512F,AVX512CD,AVX512_SKX,AVX512_CLX,AVX512_CNL\n",
      "None\n"
     ]
    }
   ],
   "source": [
    "# Print the NumPy version\n",
    "print(\"NumPy version:\", np.__version__)\n",
    "\n",
    "# Print the NumPy configuration\n",
    "print(\"NumPy configuration:\")\n",
    "print(np.__config__.show())"
   ]
  },
  {
   "cell_type": "markdown",
   "metadata": {},
   "source": [
    "**3. Create a 1D array of zeros of size 10 of type float32**"
   ]
  },
  {
   "cell_type": "code",
   "execution_count": 7,
   "metadata": {},
   "outputs": [
    {
     "name": "stdout",
     "output_type": "stream",
     "text": [
      "Array: [0. 0. 0. 0. 0. 0. 0. 0. 0. 0.]\n",
      "Array type: float32\n"
     ]
    }
   ],
   "source": [
    "# Generate array according to the specifications\n",
    "q3 = np.zeros((10), dtype='float32')\n",
    "\n",
    "# Print the array and type\n",
    "print(\"Array:\", q3)\n",
    "print(\"Array type:\", q3.dtype)"
   ]
  },
  {
   "cell_type": "markdown",
   "metadata": {},
   "source": [
    "**4. Print the memory size of the array below**"
   ]
  },
  {
   "cell_type": "code",
   "execution_count": 8,
   "metadata": {},
   "outputs": [
    {
     "name": "stdout",
     "output_type": "stream",
     "text": [
      "Array memory size: 3072 bytes\n"
     ]
    }
   ],
   "source": [
    "Z = np.zeros((32, 12))\n",
    "\n",
    "# Obtain the memory size of the array in bytes\n",
    "print(\"Array memory size: {} bytes\".format(Z.nbytes))"
   ]
  },
  {
   "cell_type": "markdown",
   "metadata": {},
   "source": [
    "**5. Create a 1D array with values ranging from 10 to 58**"
   ]
  },
  {
   "cell_type": "code",
   "execution_count": 9,
   "metadata": {},
   "outputs": [
    {
     "name": "stdout",
     "output_type": "stream",
     "text": [
      "1D array containing values [10, 58]:\n",
      " [10 11 12 13 14 15 16 17 18 19 20 21 22 23 24 25 26 27 28 29 30 31 32 33\n",
      " 34 35 36 37 38 39 40 41 42 43 44 45 46 47 48 49 50 51 52 53 54 55 56 57\n",
      " 58]\n"
     ]
    }
   ],
   "source": [
    "# Generate a 1D array containing values 10 to 58\n",
    "q5 = np.arange(10, 59)\n",
    "\n",
    "print(\"1D array containing values [10, 58]:\\n\", q5)"
   ]
  },
  {
   "cell_type": "markdown",
   "metadata": {},
   "source": [
    "**6. Reverse the order of the values in the vector (first element becomes last)**"
   ]
  },
  {
   "cell_type": "code",
   "execution_count": 10,
   "metadata": {},
   "outputs": [
    {
     "name": "stdout",
     "output_type": "stream",
     "text": [
      "Original array: [0 1 2 3 4 5 6 7 8 9]\n",
      "Reversed array: [9 8 7 6 5 4 3 2 1 0]\n"
     ]
    }
   ],
   "source": [
    "a = np.arange(10)\n",
    "\n",
    "# Reverse the order of the array (note that this is a shallow copy of a)\n",
    "a_reversed = a[::-1]\n",
    "\n",
    "print(\"Original array:\", a)\n",
    "print(\"Reversed array:\", a_reversed)"
   ]
  },
  {
   "cell_type": "markdown",
   "metadata": {},
   "source": [
    "**7. Create a 3x3 matrix with values ranging from 0 to 8**"
   ]
  },
  {
   "cell_type": "code",
   "execution_count": 11,
   "metadata": {},
   "outputs": [
    {
     "name": "stdout",
     "output_type": "stream",
     "text": [
      "3x3 matrix containing values [0, 8]:\n",
      " [[0 1 2]\n",
      " [3 4 5]\n",
      " [6 7 8]]\n"
     ]
    }
   ],
   "source": [
    "# Generate a 1D array with values of 0 to 8 and reshape it to be 3x3 \n",
    "q7 = np.arange(9).reshape(3, 3)\n",
    "\n",
    "print(\"3x3 matrix containing values [0, 8]:\\n\", q7)"
   ]
  },
  {
   "cell_type": "markdown",
   "metadata": {},
   "source": [
    "**8. Create a 3x3 identity matrix**"
   ]
  },
  {
   "cell_type": "code",
   "execution_count": 12,
   "metadata": {},
   "outputs": [
    {
     "name": "stdout",
     "output_type": "stream",
     "text": [
      "3x3 identity matrix:\n",
      " [[1. 0. 0.]\n",
      " [0. 1. 0.]\n",
      " [0. 0. 1.]]\n"
     ]
    }
   ],
   "source": [
    "# Generate a 3x3 identity matrix\n",
    "q8 = np.identity(3)\n",
    "\n",
    "print(\"3x3 identity matrix:\\n\", q8)"
   ]
  },
  {
   "cell_type": "markdown",
   "metadata": {},
   "source": [
    "**9. Find and print the maximum values of each column in the array below** "
   ]
  },
  {
   "cell_type": "code",
   "execution_count": 15,
   "metadata": {},
   "outputs": [
    {
     "name": "stdout",
     "output_type": "stream",
     "text": [
      "Original array:\n",
      " [[0.65296179 0.70253911 0.0626164  0.28759289 0.93414729 0.41015087\n",
      "  0.55241806 0.0921523  0.04397593 0.87382534 0.22638678]\n",
      " [0.00619794 0.07662119 0.04994382 0.28288395 0.56649656 0.55918482\n",
      "  0.67807924 0.47946287 0.75587559 0.42900009 0.54925352]\n",
      " [0.2884477  0.4773482  0.28924845 0.02246314 0.89390148 0.76284022\n",
      "  0.3482918  0.45548421 0.02518729 0.35404836 0.21736907]\n",
      " [0.33771898 0.30894756 0.89276954 0.1249847  0.81626123 0.39289949\n",
      "  0.97740293 0.1791315  0.09478504 0.09329273 0.07400977]\n",
      " [0.57424082 0.49862511 0.45478145 0.68148129 0.02045496 0.36168115\n",
      "  0.35216799 0.31407426 0.49437544 0.9488993  0.24444624]\n",
      " [0.93859742 0.92655315 0.46662127 0.73217781 0.69102403 0.69541992\n",
      "  0.88214449 0.94843122 0.89027882 0.18065845 0.81243287]\n",
      " [0.88855909 0.02376726 0.90632262 0.04813067 0.9825794  0.99905197\n",
      "  0.46116816 0.45659067 0.51052761 0.14057126 0.08232881]\n",
      " [0.01842801 0.58363049 0.70521347 0.28765084 0.76545705 0.80676378\n",
      "  0.94375916 0.67133764 0.55806736 0.18689176 0.59555069]\n",
      " [0.65811304 0.67811525 0.18166162 0.18039437 0.93925198 0.1956862\n",
      "  0.91146511 0.68658756 0.47463291 0.22185139 0.54032889]\n",
      " [0.58809109 0.646807   0.70549289 0.52799736 0.97745571 0.67971561\n",
      "  0.31530485 0.34721816 0.61886361 0.67766187 0.17681967]]\n",
      "Maximum value of each column:\n",
      " [0.93859742 0.92655315 0.90632262 0.73217781 0.9825794  0.99905197\n",
      " 0.97740293 0.94843122 0.89027882 0.9488993  0.81243287]\n"
     ]
    }
   ],
   "source": [
    "Z = np.random.random((10, 11))\n",
    "\n",
    "# Obtain the maximum value of each column\n",
    "Z_max_col = Z.max(axis=0)\n",
    "\n",
    "print(\"Original array:\\n\", Z)\n",
    "print(\"Maximum value of each column:\\n\", Z_max_col)"
   ]
  },
  {
   "cell_type": "markdown",
   "metadata": {},
   "source": [
    "**10. Create a $7 \\times 7$ array with 1s on the borders (first row and column, last row and column) and 0s everywhere else**"
   ]
  },
  {
   "cell_type": "code",
   "execution_count": 16,
   "metadata": {},
   "outputs": [
    {
     "name": "stdout",
     "output_type": "stream",
     "text": [
      "7x7 array with ones on the border and zeros everywhere else:\n",
      " [[1. 1. 1. 1. 1. 1. 1.]\n",
      " [1. 0. 0. 0. 0. 0. 1.]\n",
      " [1. 0. 0. 0. 0. 0. 1.]\n",
      " [1. 0. 0. 0. 0. 0. 1.]\n",
      " [1. 0. 0. 0. 0. 0. 1.]\n",
      " [1. 0. 0. 0. 0. 0. 1.]\n",
      " [1. 1. 1. 1. 1. 1. 1.]]\n"
     ]
    }
   ],
   "source": [
    "# Generate a 7x7 matrix of ones\n",
    "q10 = np.ones((7, 7))\n",
    "\n",
    "# Fill the inner elements with zeros by specifying the proper indices\n",
    "q10[1:-1, 1:-1] = 0\n",
    "\n",
    "print(\"7x7 array with ones on the border and zeros everywhere else:\\n\", q10)"
   ]
  },
  {
   "cell_type": "markdown",
   "metadata": {},
   "source": [
    "**11. Pad the existing array below with zeros (i.e., add additional rows and columns with zeros). Use the NumPy pad function.**"
   ]
  },
  {
   "cell_type": "code",
   "execution_count": 17,
   "metadata": {},
   "outputs": [
    {
     "name": "stdout",
     "output_type": "stream",
     "text": [
      "Original array:\n",
      " [[1. 1. 1. 1. 1.]\n",
      " [1. 1. 1. 1. 1.]\n",
      " [1. 1. 1. 1. 1.]\n",
      " [1. 1. 1. 1. 1.]\n",
      " [1. 1. 1. 1. 1.]]\n",
      "Padded array:\n",
      " [[0. 0. 0. 0. 0. 0. 0.]\n",
      " [0. 1. 1. 1. 1. 1. 0.]\n",
      " [0. 1. 1. 1. 1. 1. 0.]\n",
      " [0. 1. 1. 1. 1. 1. 0.]\n",
      " [0. 1. 1. 1. 1. 1. 0.]\n",
      " [0. 1. 1. 1. 1. 1. 0.]\n",
      " [0. 0. 0. 0. 0. 0. 0.]]\n"
     ]
    }
   ],
   "source": [
    "Z = np.ones((5, 5))\n",
    "\n",
    "# Pad the array with zeros\n",
    "Z_padded = np.pad(Z, 1)\n",
    "\n",
    "print(\"Original array:\\n\", Z)\n",
    "print(\"Padded array:\\n\", Z_padded)"
   ]
  },
  {
   "cell_type": "markdown",
   "metadata": {},
   "source": [
    "**12. Extract the integer part of the random array of positive numbers below**"
   ]
  },
  {
   "cell_type": "code",
   "execution_count": 18,
   "metadata": {},
   "outputs": [
    {
     "name": "stdout",
     "output_type": "stream",
     "text": [
      "Original array:\n",
      " [6.48345005 4.18976055 3.60958085 3.43701423 9.16451057 3.93171822\n",
      " 9.50233574 9.67684513 3.51788483 2.95886586]\n",
      "Integer array:\n",
      " [6 4 3 3 9 3 9 9 3 2]\n"
     ]
    }
   ],
   "source": [
    "Z = np.random.uniform(0, 10, 10)\n",
    "\n",
    "# Take the integer part of each element in the array\n",
    "Z_int = Z.astype(int)\n",
    "\n",
    "print(\"Original array:\\n\", Z)\n",
    "print(\"Integer array:\\n\", Z_int)"
   ]
  },
  {
   "cell_type": "markdown",
   "metadata": {},
   "source": [
    "**13. Create a 5x5 matrix with rows with equal values ranging from 0 to 4 (i.e., [0, 1, 2, 3, 4])**\n",
    "\n",
    "*Hint:* consider using NumPy broadcasting or the tile function*"
   ]
  },
  {
   "cell_type": "code",
   "execution_count": 19,
   "metadata": {},
   "outputs": [
    {
     "name": "stdout",
     "output_type": "stream",
     "text": [
      "5x5 matrix with rows containing values [0, 4]:\n",
      " [[0 1 2 3 4]\n",
      " [0 1 2 3 4]\n",
      " [0 1 2 3 4]\n",
      " [0 1 2 3 4]\n",
      " [0 1 2 3 4]]\n"
     ]
    }
   ],
   "source": [
    "# Generate an array with rows containing values ranging from 0 to 4\n",
    "q13 = np.tile([0, 1, 2, 3, 4], (5, 1))\n",
    "\n",
    "print(\"5x5 matrix with rows containing values [0, 4]:\\n\", q13)"
   ]
  },
  {
   "cell_type": "markdown",
   "metadata": {},
   "source": [
    "**14. Create a vector of size 10 with values ranging from 0 to 1 (0 and 1 not included)**\n",
    "\n",
    "*Hint: Consider using the linspace function*"
   ]
  },
  {
   "cell_type": "code",
   "execution_count": 20,
   "metadata": {},
   "outputs": [
    {
     "name": "stdout",
     "output_type": "stream",
     "text": [
      "Array of size 10 containing values (0, 1)\n",
      " [0.09090909 0.18181818 0.27272727 0.36363636 0.45454545 0.54545455\n",
      " 0.63636364 0.72727273 0.81818182 0.90909091]\n"
     ]
    }
   ],
   "source": [
    "# Generate an array ranging from 0 to 1, slicing the array to exclude 0 and setting the linspace() 'endpoint' argument to 'False' to exclude 1\n",
    "q14 = np.linspace(0, 1, 11, endpoint=False)[1:]\n",
    "\n",
    "print(\"Array of size 10 containing values (0, 1)\\n\", q14)"
   ]
  },
  {
   "cell_type": "markdown",
   "metadata": {},
   "source": [
    "**15. Create a random vector of size 10 and sort it**"
   ]
  },
  {
   "cell_type": "code",
   "execution_count": 21,
   "metadata": {},
   "outputs": [
    {
     "name": "stdout",
     "output_type": "stream",
     "text": [
      "Random array:\n",
      " [0.81447031 0.71302819 0.49183889 0.00135412 0.66316272 0.30304503\n",
      " 0.31601591 0.94876119 0.04822373 0.61005354]\n",
      "Sorted array:\n",
      " [0.00135412 0.04822373 0.30304503 0.31601591 0.49183889 0.61005354\n",
      " 0.66316272 0.71302819 0.81447031 0.94876119]\n"
     ]
    }
   ],
   "source": [
    "# Generate randomized array of size 10\n",
    "q15_random = np.random.rand(10)\n",
    "\n",
    "# Sort the randomized array\n",
    "q15_sorted = np.sort(q15_random)\n",
    "\n",
    "print(\"Random array:\\n\", q15_random)\n",
    "print(\"Sorted array:\\n\", q15_sorted)"
   ]
  },
  {
   "cell_type": "markdown",
   "metadata": {},
   "source": [
    "**16. Consider the cartesian coordinates below (X and Y), convert them to polar coordinates (R and T)**"
   ]
  },
  {
   "cell_type": "code",
   "execution_count": 22,
   "metadata": {},
   "outputs": [
    {
     "name": "stdout",
     "output_type": "stream",
     "text": [
      "Cartesian coordinates:\n",
      "X = [0.393856   0.60503272 0.22120474 0.5304417  0.24292175 0.02644751\n",
      " 0.75854582 0.43693074 0.11735347 0.38419697]\n",
      "Y = [0.45205273 0.44696302 0.41948273 0.91586954 0.71488568 0.01170864\n",
      " 0.60843453 0.98110115 0.79818446 0.38604107]\n",
      "\n",
      "Polar coordinates:\n",
      "R = [0.59956169 0.75222373 0.47423338 1.05838812 0.75503146 0.02892339\n",
      " 0.97241161 1.07399625 0.80676531 0.54464211]\n",
      "T (radians) = [0.8540878  0.6362569  1.08552655 1.04583584 1.24323259 0.416777\n",
      " 0.67602407 1.15181832 1.42481669 0.78779236]\n"
     ]
    }
   ],
   "source": [
    "Z = np.random.random((10, 2))\n",
    "X, Y = Z[:, 0], Z[:, 1]\n",
    "\n",
    "# Convert Cartesian coordinates to polar coordinates using the corresponding formula for the radius (R) and angle (T)\n",
    "R = np.sqrt(X ** 2 + Y ** 2)\n",
    "T = np.arctan2(Y, X)\n",
    "\n",
    "print(\"Cartesian coordinates:\")\n",
    "print(\"X =\", X)\n",
    "print(\"Y =\", Y)\n",
    "\n",
    "print(\"\\nPolar coordinates:\")\n",
    "print(\"R =\", R)\n",
    "print(\"T (radians) =\", T)"
   ]
  },
  {
   "cell_type": "markdown",
   "metadata": {},
   "source": [
    "**17. Create random vector of size 10 and replace the maximum value by 0**"
   ]
  },
  {
   "cell_type": "code",
   "execution_count": 23,
   "metadata": {},
   "outputs": [
    {
     "name": "stdout",
     "output_type": "stream",
     "text": [
      "Randomized array:\n",
      " [0.44647555 0.42199617 0.81494238 0.01041374 0.04867302 0.34145548\n",
      " 0.49775378 0.99831982 0.18164325 0.12745329]\n",
      "Max value replaced array:\n",
      " [0.44647555 0.42199617 0.81494238 0.01041374 0.04867302 0.34145548\n",
      " 0.49775378 0.         0.18164325 0.12745329]\n"
     ]
    }
   ],
   "source": [
    "# Generate randomized array of size 10\n",
    "q17_random = np.random.rand(10)\n",
    "\n",
    "# Replace maximum value with 0 using a boolean mask\n",
    "q17_max_replaced = q17_random.copy()\n",
    "q17_max_replaced[q17_random.argmax()] = 0\n",
    "\n",
    "print(\"Randomized array:\\n\", q17_random)\n",
    "print(\"Max value replaced array:\\n\", q17_max_replaced)"
   ]
  },
  {
   "cell_type": "markdown",
   "metadata": {},
   "source": [
    "**18. Find the nearest value from a given value (z) in an array (Z)**"
   ]
  },
  {
   "cell_type": "code",
   "execution_count": 27,
   "metadata": {},
   "outputs": [
    {
     "name": "stdout",
     "output_type": "stream",
     "text": [
      "Original array:\n",
      " [0.65832446 0.97326457 0.17917199 0.26663026 0.98546053 0.27395666\n",
      " 0.7469951  0.49410156 0.37739043 0.05686106]\n",
      "Value of z: 0.5\n",
      "Nearest value to z: 0.4941015603327287\n"
     ]
    }
   ],
   "source": [
    "Z = np.random.uniform(0, 1, 10)\n",
    "z = 0.5\n",
    "\n",
    "# Retrive the nearest value by obtaining the index of the element in Z with the smallest difference to z\n",
    "q18 = Z[np.abs(Z - z).argmin()]\n",
    "\n",
    "print(\"Original array:\\n\", Z)\n",
    "print(\"Value of z:\", z)\n",
    "print(\"Nearest value to z:\", q18)"
   ]
  },
  {
   "cell_type": "markdown",
   "metadata": {},
   "source": [
    "**19. Consider the vector [5, 4, 3, 2, 1], how to build a new vector with 3 consecutive zeros interleaved between each value?**"
   ]
  },
  {
   "cell_type": "code",
   "execution_count": 28,
   "metadata": {},
   "outputs": [
    {
     "name": "stdout",
     "output_type": "stream",
     "text": [
      "Original array:\n",
      " [5 4 3 2 1]\n",
      "Interleaved array:\n",
      " [5 0 0 0 4 0 0 0 3 0 0 0 2 0 0 0 1]\n"
     ]
    }
   ],
   "source": [
    "Z = np.arange(6)[:0:-1]\n",
    "\n",
    "# Generate a zeros array of appropriate length\n",
    "Z_interleaved = np.zeros(4 * ((len(Z) - 1)) + 1, dtype=int)\n",
    "\n",
    "# Replace every fourth element with an element in Z\n",
    "Z_interleaved[::4] = Z\n",
    "\n",
    "print(\"Original array:\\n\", Z)\n",
    "print(\"Interleaved array:\\n\", Z_interleaved)"
   ]
  },
  {
   "cell_type": "markdown",
   "metadata": {},
   "source": [
    "**20. Consider an array of dimension (5, 5, 3), how to mulitply it element-wise by an array with dimensions (5, 5) - i.e., (5, 5, 0)$\\times$(5, 5), (5, 5, 1)$\\times$(5, 5), (5, 5, 2)$\\times$(5, 5)**"
   ]
  },
  {
   "cell_type": "code",
   "execution_count": 29,
   "metadata": {},
   "outputs": [
    {
     "name": "stdout",
     "output_type": "stream",
     "text": [
      "Element-wise product:\n",
      " [[[2. 2. 2.]\n",
      "  [2. 2. 2.]\n",
      "  [2. 2. 2.]\n",
      "  [2. 2. 2.]\n",
      "  [2. 2. 2.]]\n",
      "\n",
      " [[2. 2. 2.]\n",
      "  [2. 2. 2.]\n",
      "  [2. 2. 2.]\n",
      "  [2. 2. 2.]\n",
      "  [2. 2. 2.]]\n",
      "\n",
      " [[2. 2. 2.]\n",
      "  [2. 2. 2.]\n",
      "  [2. 2. 2.]\n",
      "  [2. 2. 2.]\n",
      "  [2. 2. 2.]]\n",
      "\n",
      " [[2. 2. 2.]\n",
      "  [2. 2. 2.]\n",
      "  [2. 2. 2.]\n",
      "  [2. 2. 2.]\n",
      "  [2. 2. 2.]]\n",
      "\n",
      " [[2. 2. 2.]\n",
      "  [2. 2. 2.]\n",
      "  [2. 2. 2.]\n",
      "  [2. 2. 2.]\n",
      "  [2. 2. 2.]]]\n",
      "\n",
      "Shape of result: (5, 5, 3)\n"
     ]
    }
   ],
   "source": [
    "A = np.ones((5, 5, 3))\n",
    "B = 2 * np.ones((5, 5))\n",
    "\n",
    "# Add third dimension to B and multiply with A\n",
    "q20 = np.multiply(A, B.reshape(5, 5, 1))\n",
    "\n",
    "print(\"Element-wise product:\\n\", q20)\n",
    "print(\"\\nShape of result:\", q20.shape)"
   ]
  },
  {
   "cell_type": "markdown",
   "metadata": {},
   "source": [
    "**21. Swap the first and second rows of the 2D array below**"
   ]
  },
  {
   "cell_type": "code",
   "execution_count": 30,
   "metadata": {},
   "outputs": [
    {
     "name": "stdout",
     "output_type": "stream",
     "text": [
      "Original array:\n",
      " [[ 0  1  2  3  4]\n",
      " [ 5  6  7  8  9]\n",
      " [10 11 12 13 14]\n",
      " [15 16 17 18 19]\n",
      " [20 21 22 23 24]\n",
      " [25 26 27 28 29]]\n",
      "\n",
      "Array with swapped rows:\n",
      " [[ 5  6  7  8  9]\n",
      " [ 0  1  2  3  4]\n",
      " [10 11 12 13 14]\n",
      " [15 16 17 18 19]\n",
      " [20 21 22 23 24]\n",
      " [25 26 27 28 29]]\n"
     ]
    }
   ],
   "source": [
    "W = np.arange(30).reshape(6, 5)\n",
    "print(\"Original array:\\n\", W)\n",
    "print()\n",
    "\n",
    "# Use advanced slicing to swap rows\n",
    "W[[0, 1], :] = W[[1, 0], :]\n",
    "\n",
    "print(\"Array with swapped rows:\\n\", W)"
   ]
  },
  {
   "cell_type": "markdown",
   "metadata": {},
   "source": [
    "**22. Write a function that receives as input a 2D Boolean NumPy array and outputs the coordinates of the minimal bounding box\n",
    "that encloses all non-zero elements in the input array**\n",
    "\n",
    "**Tip:** Search for the functions non-zero and where in the NumPy documentation.\n",
    "\n",
    "<img src=\"./bbox.png\" width=\"150\" /> "
   ]
  },
  {
   "cell_type": "code",
   "execution_count": 31,
   "metadata": {},
   "outputs": [
    {
     "name": "stdout",
     "output_type": "stream",
     "text": [
      "Minimum bounding box: ((29, 50), (342, 431))\n"
     ]
    }
   ],
   "source": [
    "def bbox(img):\n",
    "    # Obtain the row and column indices of the non-zero elements as a tuple\n",
    "    bb_idx = np.nonzero(img)\n",
    "\n",
    "    # Retrieve the minimum and maximum row/column indices to get the minimum bounding-box\n",
    "    r1 = bb_idx[0].min()\n",
    "    c1 = bb_idx[1].min()\n",
    "    r2 = bb_idx[0].max()\n",
    "    c2 = bb_idx[1].max()\n",
    "    \n",
    "    return (r1, c1), (r2, c2)\n",
    "\n",
    "\n",
    "from PIL import Image\n",
    "\n",
    "img = np.array(Image.open('./bin_image.png').convert('L')) > 0\n",
    "print(\"Minimum bounding box:\", bbox(img))"
   ]
  },
  {
   "cell_type": "markdown",
   "metadata": {},
   "source": [
    "**23. Write a function to compute the average over a sliding window of length N over a 1D array**\n",
    "\n",
    "*Example:* [1, 2, 3, 4, 5, 6, 7, 8, 9], N = 3 -> [2, 5, 8]"
   ]
  },
  {
   "cell_type": "code",
   "execution_count": 32,
   "metadata": {},
   "outputs": [
    {
     "name": "stdout",
     "output_type": "stream",
     "text": [
      "Original array: [ 0  1  2  3  4  5  6  7  8  9 10 11 12 13 14 15 16 17 18 19 20 21 22 23\n",
      " 24 25 26 27 28 29]\n",
      "Sliding window moving average: [ 1.  4.  7. 10. 13. 16. 19. 22. 25. 28.]\n"
     ]
    }
   ],
   "source": [
    "def moving_average(x, N=3):\n",
    "    # Pad array with zeros if the size of array x is not a multiple of N\n",
    "    if x.size % N != 0:\n",
    "        x = np.pad(x, (0, x.size % N))\n",
    "    \n",
    "    # Reshape the array to be 2D where each row has N elements and calculate the average of each\n",
    "    x = x.reshape(int(x.size / N), N)\n",
    "    x = x.sum(axis=1) / N\n",
    "\n",
    "    # Flatten back to a 1D array\n",
    "    x = x.flatten()\n",
    "\n",
    "    return x\n",
    "\n",
    "\n",
    "a = np.arange(30)\n",
    "N = 3\n",
    "print(\"Original array:\", a)\n",
    "print(\"Sliding window moving average:\", moving_average(a, N))"
   ]
  },
  {
   "cell_type": "markdown",
   "metadata": {},
   "source": [
    "**24.  Given a sorted 1D array C that corresponds to a bincount, how to produce an array A such that np.bincount(A) == C?**\n",
    "\n",
    "*Example:* C = [3, 2, 4] -> D = [0, 0, 0, 1, 1, 2, 2, 2, 2]\n",
    "\n",
    "*Tip:* Consider using the NumPy repeat function"
   ]
  },
  {
   "cell_type": "code",
   "execution_count": 33,
   "metadata": {},
   "outputs": [
    {
     "name": "stdout",
     "output_type": "stream",
     "text": [
      "bincount array C = [0 2 1 1 2 0 1]\n",
      "\n",
      "Inverse bincount array A = [1 1 2 3 4 4 6]\n",
      "Verify bincount: [0 2 1 1 2 0 1]\n"
     ]
    }
   ],
   "source": [
    "C = np.bincount([1, 1, 2, 3, 4, 4, 6])\n",
    "print(\"bincount array C =\", C)\n",
    "\n",
    "# Repeat the elements in A using the values of C\n",
    "A = np.repeat(np.arange(C.size), C)\n",
    "\n",
    "print(\"\\nInverse bincount array A =\", A)\n",
    "print(\"Verify bincount:\", np.bincount(A))"
   ]
  },
  {
   "cell_type": "markdown",
   "metadata": {},
   "source": [
    "**25. Find the most frequent value in the array below?**"
   ]
  },
  {
   "cell_type": "code",
   "execution_count": 49,
   "metadata": {},
   "outputs": [
    {
     "name": "stdout",
     "output_type": "stream",
     "text": [
      "Original array:\n",
      " [6 5 6 3 7 9 3 1 7 5 5 7 5 4 2 8 2 9 9 0 5 1 9 1 0 1 5 9 2 4 4 8 5 9 7 1 6\n",
      " 7 1 1 1 3 4 4 2 5 1 3 4 0]\n",
      "Array value counts: [3 9 4 4 6 8 3 5 2 6]\n",
      "Most frequent array value: 1\n"
     ]
    }
   ],
   "source": [
    "Z = np.random.randint(0, 10, 50)\n",
    "\n",
    "# Record the instances of each number in the array\n",
    "Z_counts = np.bincount(Z)\n",
    "\n",
    "# Retrive the number with the maximum number of instances\n",
    "Z_max = np.argmax(Z_counts)\n",
    "\n",
    "print(\"Original array:\\n\", Z)\n",
    "print(\"Array value counts:\", Z_counts)\n",
    "print(\"Most frequent array value:\", Z_max)"
   ]
  },
  {
   "cell_type": "markdown",
   "metadata": {},
   "source": [
    "**26. Write a function to return the n largest values of an array** "
   ]
  },
  {
   "cell_type": "code",
   "execution_count": 50,
   "metadata": {},
   "outputs": [
    {
     "name": "stdout",
     "output_type": "stream",
     "text": [
      "n largest values of the array: [9999 9998 9997 9996 9995]\n"
     ]
    }
   ],
   "source": [
    "def nlargest(a, n=5):\n",
    "    # Sort the array in ascending order\n",
    "    a.sort()\n",
    "\n",
    "    # Reverse array to descending order and return the first n elements\n",
    "    return a[::-1][0:n]\n",
    "\n",
    "\n",
    "Z = np.arange(10000)\n",
    "np.random.shuffle(Z)\n",
    "n = 5\n",
    "print(\"n largest values of the array:\", nlargest(Z, n))    "
   ]
  },
  {
   "cell_type": "markdown",
   "id": "c51cf120",
   "metadata": {},
   "source": [
    "## Team Contributions\n",
    "\n",
    "All team members worked on the Assignment 1 Jupyter notebook individually and met together to discuss and choose the best answer for each question.\n",
    "\n",
    "| Team Member      | Consensus Score |\n",
    "| ---------------- | --------------- |\n",
    "| Brandon Attai    | 3               |\n",
    "| Tahsin Chowdhury | 3               |\n",
    "| Kelten Falez     | 3               |\n",
    "| Timothy Mok      | 3               |\n",
    "| Aron Saengchan   | 3               |\n",
    "| Yong Jun Zhu     | 3               |"
   ]
  }
 ],
 "metadata": {
  "kernelspec": {
   "display_name": "Python 3",
   "language": "python",
   "name": "python3"
  },
  "language_info": {
   "codemirror_mode": {
    "name": "ipython",
    "version": 3
   },
   "file_extension": ".py",
   "mimetype": "text/x-python",
   "name": "python",
   "nbconvert_exporter": "python",
   "pygments_lexer": "ipython3",
   "version": "3.9.7"
  }
 },
 "nbformat": 4,
 "nbformat_minor": 5
}
