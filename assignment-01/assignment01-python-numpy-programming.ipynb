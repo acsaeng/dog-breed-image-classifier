{
 "cells": [
  {
   "cell_type": "markdown",
   "metadata": {},
   "source": [
    "# Assignment #01\n",
    "\n",
    "This assignment is composed of multiple Python and NumPy programming exercises. The deliverable of this assignment is this Jupyter notebook completed with your solution.\n",
    "\n",
    "The delivery instructions are the following:\n",
    "    - Create a GitHub repository for your team. You are free to choose its name. This repository will be used to deliver the programming assignments and the code of your team's final project.\n",
    "    - Create a folder assignment-01 in the repository. Put the Jupyter notebook with your solution in this repository and post the repository link in your team's D2L dropbox for the assignment.\n",
    "\n",
    "You are being assessed based on:\n",
    "\n",
    "1. Code execution - 25% \n",
    "2. Clarity of the code (e.g., easy to follow, has pertinent comments, etc.) - 25%\n",
    "3. Proper usage of the techniques seen in class - 25%\n",
    "    - Remember to avoid explicit Python loops!  \n",
    "4. Quality and correctness of the results - 25%\n",
    "\n",
    "More details about the assessment are available in the rubric document in the class GitHub repository.\n",
    "\n",
    "Points distribution:\n",
    "- Question 2-21: 3 points per question \n",
    "- Questions 22-26: 8 points per question (total 40)\n",
    "- Total: 100 points"
   ]
  },
  {
   "cell_type": "code",
   "execution_count": 8,
   "metadata": {},
   "outputs": [],
   "source": [
    "import matplotlib.pylab as plt"
   ]
  },
  {
   "cell_type": "markdown",
   "metadata": {},
   "source": [
    "**1. Import the NumPy package under the name np**"
   ]
  },
  {
   "cell_type": "code",
   "execution_count": 9,
   "metadata": {},
   "outputs": [],
   "source": [
    "import numpy as np"
   ]
  },
  {
   "cell_type": "markdown",
   "metadata": {},
   "source": [
    "**2. Print the NumPy version and the configuration**"
   ]
  },
  {
   "cell_type": "code",
   "execution_count": 10,
   "metadata": {},
   "outputs": [
    {
     "name": "stdout",
     "output_type": "stream",
     "text": [
      "NumPy version: 1.21.2\n",
      "NumPy configuration:\n",
      "blas_mkl_info:\n",
      "    libraries = ['mkl_rt']\n",
      "    library_dirs = ['C:/Users/acsaeng/anaconda3/envs/enel645\\\\Library\\\\lib']\n",
      "    define_macros = [('SCIPY_MKL_H', None), ('HAVE_CBLAS', None)]\n",
      "    include_dirs = ['C:/Users/acsaeng/anaconda3/envs/enel645\\\\Library\\\\include']\n",
      "blas_opt_info:\n",
      "    libraries = ['mkl_rt']\n",
      "    library_dirs = ['C:/Users/acsaeng/anaconda3/envs/enel645\\\\Library\\\\lib']\n",
      "    define_macros = [('SCIPY_MKL_H', None), ('HAVE_CBLAS', None)]\n",
      "    include_dirs = ['C:/Users/acsaeng/anaconda3/envs/enel645\\\\Library\\\\include']\n",
      "lapack_mkl_info:\n",
      "    libraries = ['mkl_rt']\n",
      "    library_dirs = ['C:/Users/acsaeng/anaconda3/envs/enel645\\\\Library\\\\lib']\n",
      "    define_macros = [('SCIPY_MKL_H', None), ('HAVE_CBLAS', None)]\n",
      "    include_dirs = ['C:/Users/acsaeng/anaconda3/envs/enel645\\\\Library\\\\include']\n",
      "lapack_opt_info:\n",
      "    libraries = ['mkl_rt']\n",
      "    library_dirs = ['C:/Users/acsaeng/anaconda3/envs/enel645\\\\Library\\\\lib']\n",
      "    define_macros = [('SCIPY_MKL_H', None), ('HAVE_CBLAS', None)]\n",
      "    include_dirs = ['C:/Users/acsaeng/anaconda3/envs/enel645\\\\Library\\\\include']\n",
      "Supported SIMD extensions in this NumPy install:\n",
      "    baseline = SSE,SSE2,SSE3\n",
      "    found = SSSE3,SSE41,POPCNT,SSE42,AVX,F16C,FMA3,AVX2\n",
      "    not found = AVX512F,AVX512CD,AVX512_SKX,AVX512_CLX,AVX512_CNL\n",
      "None\n"
     ]
    }
   ],
   "source": [
    "# Print the NumPy version\n",
    "print(\"NumPy version:\", np.__version__)\n",
    "\n",
    "# Print the NumPy configuration\n",
    "print(\"NumPy configuration:\")\n",
    "print(np.__config__.show())"
   ]
  },
  {
   "cell_type": "markdown",
   "metadata": {},
   "source": [
    "**3. Create a 1D array of zeros of size 10 of type float32**"
   ]
  },
  {
   "cell_type": "code",
   "execution_count": 11,
   "metadata": {},
   "outputs": [
    {
     "name": "stdout",
     "output_type": "stream",
     "text": [
      "Array: [0. 0. 0. 0. 0. 0. 0. 0. 0. 0.]\n",
      "Type: float32\n"
     ]
    }
   ],
   "source": [
    "# Generate array according to the specifications\n",
    "q3 = np.zeros((10), dtype='float32')\n",
    "\n",
    "# Print the array and type\n",
    "print(\"Array:\", q3)\n",
    "print(\"Type:\", q3.dtype)"
   ]
  },
  {
   "cell_type": "markdown",
   "metadata": {},
   "source": [
    "**4. Print the memory size of the array below**"
   ]
  },
  {
   "cell_type": "code",
   "execution_count": 12,
   "metadata": {},
   "outputs": [
    {
     "name": "stdout",
     "output_type": "stream",
     "text": [
      "Array memory size: 3072 bytes\n"
     ]
    }
   ],
   "source": [
    "Z = np.zeros((32, 12))\n",
    "\n",
    "# Obtain the memory size of the array in bytes\n",
    "print(\"Array memory size: {} bytes\".format(Z.nbytes))"
   ]
  },
  {
   "cell_type": "markdown",
   "metadata": {},
   "source": [
    "**5. Create a 1D array with values ranging from 10 to 58**"
   ]
  },
  {
   "cell_type": "code",
   "execution_count": 13,
   "metadata": {},
   "outputs": [
    {
     "name": "stdout",
     "output_type": "stream",
     "text": [
      "1D array containing values [10, 58]:\n",
      " [10 11 12 13 14 15 16 17 18 19 20 21 22 23 24 25 26 27 28 29 30 31 32 33\n",
      " 34 35 36 37 38 39 40 41 42 43 44 45 46 47 48 49 50 51 52 53 54 55 56 57\n",
      " 58]\n"
     ]
    }
   ],
   "source": [
    "# Generate a 1D array containing values 10 to 58\n",
    "q5 = np.arange(10, 59)\n",
    "\n",
    "print(\"1D array containing values [10, 58]:\\n\", q5)"
   ]
  },
  {
   "cell_type": "markdown",
   "metadata": {},
   "source": [
    "**6. Reverse the order of the values in the vector (first element becomes last)**"
   ]
  },
  {
   "cell_type": "code",
   "execution_count": 14,
   "metadata": {},
   "outputs": [
    {
     "name": "stdout",
     "output_type": "stream",
     "text": [
      "Original array: [0 1 2 3 4 5 6 7 8 9]\n",
      "Reversed array: [9 8 7 6 5 4 3 2 1 0]\n"
     ]
    }
   ],
   "source": [
    "a = np.arange(10)\n",
    "\n",
    "# Reverse the order of the array (note that this is a shallow copy of a)\n",
    "a_reversed = a[::-1]\n",
    "\n",
    "print(\"Original array:\", a)\n",
    "print(\"Reversed array:\", a_reversed)"
   ]
  },
  {
   "cell_type": "markdown",
   "metadata": {},
   "source": [
    "**7. Create a 3x3 matrix with values ranging from 0 to 8**"
   ]
  },
  {
   "cell_type": "code",
   "execution_count": 15,
   "metadata": {},
   "outputs": [
    {
     "name": "stdout",
     "output_type": "stream",
     "text": [
      "3x3 matrix containing values [0, 8]:\n",
      " [[0 1 2]\n",
      " [3 4 5]\n",
      " [6 7 8]]\n"
     ]
    }
   ],
   "source": [
    "# Generate a 1D array with values of 0 to 8 and reshape it to be 3x3 \n",
    "q7 = np.arange(9).reshape(3, 3)\n",
    "\n",
    "print(\"3x3 matrix containing values [0, 8]:\\n\", q7)"
   ]
  },
  {
   "cell_type": "markdown",
   "metadata": {},
   "source": [
    "**8. Create a 3x3 identity matrix**"
   ]
  },
  {
   "cell_type": "code",
   "execution_count": 16,
   "metadata": {},
   "outputs": [
    {
     "name": "stdout",
     "output_type": "stream",
     "text": [
      "3x3 identity matrix:\n",
      " [[1. 0. 0.]\n",
      " [0. 1. 0.]\n",
      " [0. 0. 1.]]\n"
     ]
    }
   ],
   "source": [
    "# Generate a 3x3 identity matrix\n",
    "q8 = np.identity(3)\n",
    "\n",
    "print(\"3x3 identity matrix:\\n\", q8)"
   ]
  },
  {
   "cell_type": "markdown",
   "metadata": {},
   "source": [
    "**9. Find and print the maximum values of each column in the array below** "
   ]
  },
  {
   "cell_type": "code",
   "execution_count": 17,
   "metadata": {},
   "outputs": [
    {
     "name": "stdout",
     "output_type": "stream",
     "text": [
      "Original array:\n",
      " [[0.6673447  0.85310413 0.79515409 0.47884772 0.60405221 0.55901692\n",
      "  0.87505591 0.91989676 0.01332436 0.55460687 0.71948734]\n",
      " [0.71538961 0.22559601 0.96679054 0.15922692 0.91899083 0.4974911\n",
      "  0.63399253 0.42732322 0.69091593 0.07850706 0.64523632]\n",
      " [0.279695   0.8919534  0.5911707  0.22197333 0.52327748 0.59020764\n",
      "  0.98567205 0.93372412 0.5836977  0.75056517 0.16954831]\n",
      " [0.77747918 0.50038504 0.94021361 0.23439737 0.21470132 0.70194592\n",
      "  0.34810015 0.35996266 0.18200271 0.67920842 0.63433337]\n",
      " [0.57732712 0.37774924 0.46194585 0.15527165 0.89283421 0.20473983\n",
      "  0.76550175 0.50686576 0.33206046 0.99384051 0.02639645]\n",
      " [0.01468705 0.7280877  0.29891587 0.30750883 0.70951823 0.38658722\n",
      "  0.24561093 0.40601396 0.30638038 0.69930428 0.34041384]\n",
      " [0.19678733 0.00910157 0.7481622  0.21142819 0.7027923  0.08870307\n",
      "  0.24198704 0.65700321 0.4917755  0.13438284 0.97203343]\n",
      " [0.74491563 0.86630574 0.17628903 0.69110659 0.66990066 0.01009872\n",
      "  0.97167766 0.55536027 0.33886925 0.94989012 0.79370875]\n",
      " [0.55186367 0.18002404 0.80109236 0.08036076 0.82670628 0.32209504\n",
      "  0.95403862 0.9724665  0.6837817  0.41019602 0.77016275]\n",
      " [0.72221843 0.35996396 0.60304128 0.22483838 0.81200248 0.68242266\n",
      "  0.17415893 0.42176241 0.41548725 0.49885458 0.43032568]]\n",
      "Maximum value of each column:\n",
      " [0.77747918 0.8919534  0.96679054 0.69110659 0.91899083 0.70194592\n",
      " 0.98567205 0.9724665  0.69091593 0.99384051 0.97203343]\n"
     ]
    }
   ],
   "source": [
    "Z = np.random.random((10, 11))\n",
    "\n",
    "# Obtain the maximum value of each column\n",
    "Z_max_col = Z.max(axis=0)\n",
    "\n",
    "print(\"Original array:\\n\", Z)\n",
    "print(\"Maximum value of each column:\\n\", Z_max_col)"
   ]
  },
  {
   "cell_type": "markdown",
   "metadata": {},
   "source": [
    "**10. Create a $7 \\times 7$ array with 1s on the borders (first row and column, last row and column) and 0s everywhere else**"
   ]
  },
  {
   "cell_type": "code",
   "execution_count": 18,
   "metadata": {},
   "outputs": [
    {
     "name": "stdout",
     "output_type": "stream",
     "text": [
      "7x7 array with ones on the border and zeros everywhere else:\n",
      " [[1. 1. 1. 1. 1. 1. 1.]\n",
      " [1. 0. 0. 0. 0. 0. 1.]\n",
      " [1. 0. 0. 0. 0. 0. 1.]\n",
      " [1. 0. 0. 0. 0. 0. 1.]\n",
      " [1. 0. 0. 0. 0. 0. 1.]\n",
      " [1. 0. 0. 0. 0. 0. 1.]\n",
      " [1. 1. 1. 1. 1. 1. 1.]]\n"
     ]
    }
   ],
   "source": [
    "# Generate a 7x7 matrix of ones\n",
    "q10 = np.ones((7, 7))\n",
    "\n",
    "# Fill the inner elements with zeros by specifying the proper indices\n",
    "q10[1:-1, 1:-1] = 0\n",
    "\n",
    "print(\"7x7 array with ones on the border and zeros everywhere else:\\n\", q10)"
   ]
  },
  {
   "cell_type": "markdown",
   "metadata": {},
   "source": [
    "**11. Pad the existing array below with zeros (i.e., add additional rows and columns with zeros). Use the NumPy pad function.**"
   ]
  },
  {
   "cell_type": "code",
   "execution_count": 19,
   "metadata": {},
   "outputs": [
    {
     "name": "stdout",
     "output_type": "stream",
     "text": [
      "Original array:\n",
      " [[1. 1. 1. 1. 1.]\n",
      " [1. 1. 1. 1. 1.]\n",
      " [1. 1. 1. 1. 1.]\n",
      " [1. 1. 1. 1. 1.]\n",
      " [1. 1. 1. 1. 1.]]\n",
      "Padded array:\n",
      " [[0. 0. 0. 0. 0. 0. 0.]\n",
      " [0. 1. 1. 1. 1. 1. 0.]\n",
      " [0. 1. 1. 1. 1. 1. 0.]\n",
      " [0. 1. 1. 1. 1. 1. 0.]\n",
      " [0. 1. 1. 1. 1. 1. 0.]\n",
      " [0. 1. 1. 1. 1. 1. 0.]\n",
      " [0. 0. 0. 0. 0. 0. 0.]]\n"
     ]
    }
   ],
   "source": [
    "Z = np.ones((5, 5))\n",
    "\n",
    "# Pad the array with zeros\n",
    "Z_padded = np.pad(Z, 1)\n",
    "\n",
    "print(\"Original array:\\n\", Z)\n",
    "print(\"Padded array:\\n\", Z_padded)"
   ]
  },
  {
   "cell_type": "markdown",
   "metadata": {},
   "source": [
    "**12. Extract the integer part of the random array of positive numbers below**"
   ]
  },
  {
   "cell_type": "code",
   "execution_count": 20,
   "metadata": {},
   "outputs": [
    {
     "name": "stdout",
     "output_type": "stream",
     "text": [
      "Original array:\n",
      " [9.79005697 0.28686771 8.04791692 7.53436077 6.19188933 3.30254448\n",
      " 6.56875553 7.23579103 2.70398822 4.90776573]\n",
      "Integer array:\n",
      " [9 0 8 7 6 3 6 7 2 4]\n"
     ]
    }
   ],
   "source": [
    "Z = np.random.uniform(0, 10, 10)\n",
    "\n",
    "# Take the integer part of each element in the array\n",
    "Z_int = Z.astype(int)\n",
    "\n",
    "print(\"Original array:\\n\", Z)\n",
    "print(\"Integer array:\\n\", Z_int)"
   ]
  },
  {
   "cell_type": "markdown",
   "metadata": {},
   "source": [
    "**13. Create a 5x5 matrix with rows with equal values ranging from 0 to 4 (i.e., [0, 1, 2, 3, 4])**\n",
    "\n",
    "*Hint:* consider using NumPy broadcasting or the tile function*"
   ]
  },
  {
   "cell_type": "code",
   "execution_count": 21,
   "metadata": {},
   "outputs": [
    {
     "name": "stdout",
     "output_type": "stream",
     "text": [
      "5x5 matrix with rows containing values [0, 4]:\n",
      " [[0 1 2 3 4]\n",
      " [0 1 2 3 4]\n",
      " [0 1 2 3 4]\n",
      " [0 1 2 3 4]\n",
      " [0 1 2 3 4]]\n"
     ]
    }
   ],
   "source": [
    "# Generate an array with rows containing values ranging from 0 to 4\n",
    "q13 = np.tile([0, 1, 2, 3, 4], (5, 1))\n",
    "\n",
    "print(\"5x5 matrix with rows containing values [0, 4]:\\n\", q13)"
   ]
  },
  {
   "cell_type": "markdown",
   "metadata": {},
   "source": [
    "**14. Create a vector of size 10 with values ranging from 0 to 1 (0 and 1 not included)**\n",
    "\n",
    "*Hint: Consider using the linspace function*"
   ]
  },
  {
   "cell_type": "code",
   "execution_count": 22,
   "metadata": {},
   "outputs": [
    {
     "name": "stdout",
     "output_type": "stream",
     "text": [
      "Array of size 10 containing values (0, 1)\n",
      " [0.09090909 0.18181818 0.27272727 0.36363636 0.45454545 0.54545455\n",
      " 0.63636364 0.72727273 0.81818182 0.90909091]\n"
     ]
    }
   ],
   "source": [
    "# Generate an array ranging from 0 to 1, slicing the array to exclude 0 and setting the linspace() 'endpoint' argument to 'False' to exclude 1\n",
    "q14 = np.linspace(0, 1, 11, endpoint=False)[1:]\n",
    "\n",
    "print(\"Array of size 10 containing values (0, 1)\\n\", q14)"
   ]
  },
  {
   "cell_type": "markdown",
   "metadata": {},
   "source": [
    "**15. Create a random vector of size 10 and sort it**"
   ]
  },
  {
   "cell_type": "code",
   "execution_count": 23,
   "metadata": {},
   "outputs": [
    {
     "name": "stdout",
     "output_type": "stream",
     "text": [
      "Random array:\n",
      " [0.99385364 0.63685884 0.12182302 0.40917448 0.69868471 0.85402724\n",
      " 0.65585246 0.5665229  0.12620351 0.59941505]\n",
      "Sorted array:\n",
      " [0.12182302 0.12620351 0.40917448 0.5665229  0.59941505 0.63685884\n",
      " 0.65585246 0.69868471 0.85402724 0.99385364]\n"
     ]
    }
   ],
   "source": [
    "# Generate randomized array of size 10\n",
    "q15_random = np.random.rand(10)\n",
    "\n",
    "# Sort the randomized array\n",
    "q15_sorted = np.sort(q15_random)\n",
    "\n",
    "print(\"Random array:\\n\", q15_random)\n",
    "print(\"Sorted array:\\n\", q15_sorted)"
   ]
  },
  {
   "cell_type": "markdown",
   "metadata": {},
   "source": [
    "**16. Consider the cartesian coordinates below (X and Y), convert them to polar coordinates (R and T)**"
   ]
  },
  {
   "cell_type": "code",
   "execution_count": 24,
   "metadata": {},
   "outputs": [
    {
     "name": "stdout",
     "output_type": "stream",
     "text": [
      "Cartesian coordinates:\n",
      "X = [0.03510552 0.6696602  0.46992699 0.01358231 0.43080406 0.25008061\n",
      " 0.23312771 0.98832399 0.60609989 0.19670329]\n",
      "Y = [0.77149361 0.68669048 0.18150272 0.33342726 0.83138999 0.25488374\n",
      " 0.80204547 0.8644438  0.09334828 0.11955134]\n",
      "\n",
      "Polar coordinates:\n",
      "R = [0.7722919  0.95916036 0.50376047 0.33370378 0.93637676 0.35707987\n",
      " 0.83523976 1.31302986 0.61324626 0.23018407]\n",
      "T (radians) = [1.52532437 0.79795346 0.36858484 1.53008339 1.09271604 0.79490969\n",
      " 1.28792427 0.7186353  0.15281395 0.54611679]\n"
     ]
    }
   ],
   "source": [
    "Z = np.random.random((10, 2))\n",
    "X, Y = Z[:, 0], Z[:, 1]\n",
    "\n",
    "# Convert Cartesian coordinates to polar coordinates using the corresponding formula for the radius (R) and angle (T)\n",
    "R = np.sqrt(X ** 2 + Y ** 2)\n",
    "T = np.arctan2(Y, X)\n",
    "\n",
    "print(\"Cartesian coordinates:\")\n",
    "print(\"X =\", X)\n",
    "print(\"Y =\", Y)\n",
    "\n",
    "print(\"\\nPolar coordinates:\")\n",
    "print(\"R =\", R)\n",
    "print(\"T (radians) =\", T)"
   ]
  },
  {
   "cell_type": "markdown",
   "metadata": {},
   "source": [
    "**17. Create random vector of size 10 and replace the maximum value by 0**"
   ]
  },
  {
   "cell_type": "code",
   "execution_count": 26,
   "metadata": {},
   "outputs": [
    {
     "name": "stdout",
     "output_type": "stream",
     "text": [
      "Randomized array:\n",
      " [0.21035964 0.28346331 0.78007164 0.0706731  0.52312023 0.57469306\n",
      " 0.97236791 0.4160917  0.50730485 0.85435569]\n",
      "Max value replaced array:\n",
      " [0.21035964 0.28346331 0.78007164 0.0706731  0.52312023 0.57469306\n",
      " 0.         0.4160917  0.50730485 0.85435569]\n"
     ]
    }
   ],
   "source": [
    "# Generate randomized array of size 10\n",
    "q17_random = np.random.rand(10)\n",
    "\n",
    "# Replace maximum value with 0 using a boolean mask\n",
    "q17_max_replaced = q17_random.copy()\n",
    "q17_max_replaced[q17_random.argmax()] = 0\n",
    "\n",
    "print(\"Randomized array:\\n\", q17_random)\n",
    "print(\"Max value replaced array:\\n\", q17_max_replaced)"
   ]
  },
  {
   "cell_type": "markdown",
   "metadata": {},
   "source": [
    "**18. Find the nearest value from a given value (z) in an array (Z)**"
   ]
  },
  {
   "cell_type": "code",
   "execution_count": 27,
   "metadata": {},
   "outputs": [
    {
     "name": "stdout",
     "output_type": "stream",
     "text": [
      "Original array:\n",
      " [0.9994457  0.59966182 0.78576694 0.15449011 0.03602761 0.1693942\n",
      " 0.99080923 0.39542021 0.58368347 0.50003067]\n",
      "Value of z: 0.5\n",
      "Nearest value to z: 0.5000306723197319\n"
     ]
    }
   ],
   "source": [
    "Z = np.random.uniform(0, 1, 10)\n",
    "z = 0.5\n",
    "\n",
    "# Retrive the nearest value by obtaining the index of the element in Z with the smallest difference to z\n",
    "q18 = Z[np.abs(Z - z).argmin()]\n",
    "\n",
    "print(\"Original array:\\n\", Z)\n",
    "print(\"Value of z:\", z)\n",
    "print(\"Nearest value to z:\", q18)"
   ]
  },
  {
   "cell_type": "markdown",
   "metadata": {},
   "source": [
    "**19. Consider the vector [5, 4, 3, 2, 1], how to build a new vector with 3 consecutive zeros interleaved between each value?**"
   ]
  },
  {
   "cell_type": "code",
   "execution_count": 28,
   "metadata": {},
   "outputs": [
    {
     "name": "stdout",
     "output_type": "stream",
     "text": [
      "Original array:\n",
      " [5 4 3 2 1]\n",
      "Interleaved array:\n",
      " [5 0 0 0 4 0 0 0 3 0 0 0 2 0 0 0 1]\n"
     ]
    }
   ],
   "source": [
    "Z = np.arange(6)[:0:-1]\n",
    "\n",
    "# Generate a zeros array of appropriate length\n",
    "Z_interleaved = np.zeros(4 * ((len(Z) - 1)) + 1, dtype=int)\n",
    "\n",
    "# Replace every fourth element with an element in Z\n",
    "Z_interleaved[::4] = Z\n",
    "\n",
    "print(\"Original array:\\n\", Z)\n",
    "print(\"Interleaved array:\\n\", Z_interleaved)"
   ]
  },
  {
   "cell_type": "markdown",
   "metadata": {},
   "source": [
    "**20. Consider an array of dimension (5, 5, 3), how to mulitply it element-wise by an array with dimensions (5, 5) - i.e., (5, 5, 0)$\\times$(5, 5), (5, 5, 1)$\\times$(5, 5), (5, 5, 2)$\\times$(5, 5)**"
   ]
  },
  {
   "cell_type": "code",
   "execution_count": 29,
   "metadata": {},
   "outputs": [
    {
     "name": "stdout",
     "output_type": "stream",
     "text": [
      "Element-wise product:\n",
      " [[[2. 2. 2.]\n",
      "  [2. 2. 2.]\n",
      "  [2. 2. 2.]\n",
      "  [2. 2. 2.]\n",
      "  [2. 2. 2.]]\n",
      "\n",
      " [[2. 2. 2.]\n",
      "  [2. 2. 2.]\n",
      "  [2. 2. 2.]\n",
      "  [2. 2. 2.]\n",
      "  [2. 2. 2.]]\n",
      "\n",
      " [[2. 2. 2.]\n",
      "  [2. 2. 2.]\n",
      "  [2. 2. 2.]\n",
      "  [2. 2. 2.]\n",
      "  [2. 2. 2.]]\n",
      "\n",
      " [[2. 2. 2.]\n",
      "  [2. 2. 2.]\n",
      "  [2. 2. 2.]\n",
      "  [2. 2. 2.]\n",
      "  [2. 2. 2.]]\n",
      "\n",
      " [[2. 2. 2.]\n",
      "  [2. 2. 2.]\n",
      "  [2. 2. 2.]\n",
      "  [2. 2. 2.]\n",
      "  [2. 2. 2.]]]\n",
      "\n",
      "Shape of result: (5, 5, 3)\n"
     ]
    }
   ],
   "source": [
    "A = np.ones((5, 5, 3))\n",
    "B = 2 * np.ones((5, 5))\n",
    "\n",
    "# Add third dimension to B and multiply with A\n",
    "q20 = np.multiply(A, B.reshape(5, 5, 1))\n",
    "\n",
    "print(\"Element-wise product:\\n\", q20)\n",
    "print(\"\\nShape of result:\", q20.shape)"
   ]
  },
  {
   "cell_type": "markdown",
   "metadata": {},
   "source": [
    "**21. Swap the first and second rows of the 2D array below**"
   ]
  },
  {
   "cell_type": "code",
   "execution_count": 30,
   "metadata": {},
   "outputs": [
    {
     "name": "stdout",
     "output_type": "stream",
     "text": [
      "Original array:\n",
      " [[ 0  1  2  3  4]\n",
      " [ 5  6  7  8  9]\n",
      " [10 11 12 13 14]\n",
      " [15 16 17 18 19]\n",
      " [20 21 22 23 24]\n",
      " [25 26 27 28 29]]\n",
      "\n",
      "Array with swapped rows:\n",
      " [[ 5  6  7  8  9]\n",
      " [ 0  1  2  3  4]\n",
      " [10 11 12 13 14]\n",
      " [15 16 17 18 19]\n",
      " [20 21 22 23 24]\n",
      " [25 26 27 28 29]]\n"
     ]
    }
   ],
   "source": [
    "W = np.arange(30).reshape(6, 5)\n",
    "print(\"Original array:\\n\", W)\n",
    "print()\n",
    "\n",
    "# Use advanced slicing to swap rows\n",
    "W[[0, 1], :] = W[[1, 0], :]\n",
    "\n",
    "print(\"Array with swapped rows:\\n\", W)"
   ]
  },
  {
   "cell_type": "markdown",
   "metadata": {},
   "source": [
    "**22. Write a function that receives as input a 2D Boolean NumPy array and outputs the coordinates of the minimal bounding box\n",
    "that encloses all non-zero elements in the input array**\n",
    "\n",
    "**Tip:** Search for the functions non-zero and where in the NumPy documentation.\n",
    "\n",
    "<img src=\"./bbox.png\" width=\"150\" /> "
   ]
  },
  {
   "cell_type": "code",
   "execution_count": 31,
   "metadata": {},
   "outputs": [
    {
     "name": "stdout",
     "output_type": "stream",
     "text": [
      "Minimum bounding box: ((29, 50), (342, 431))\n"
     ]
    }
   ],
   "source": [
    "def bbox(img):\n",
    "    # Obtain the row and column indices of the non-zero elements as a tuple\n",
    "    bb_idx = np.nonzero(img)\n",
    "\n",
    "    # Retrieve the minimum and maximum row/column indices to get the minimum bounding-box\n",
    "    r1 = bb_idx[0].min()\n",
    "    c1 = bb_idx[1].min()\n",
    "    r2 = bb_idx[0].max()\n",
    "    c2 = bb_idx[1].max()\n",
    "    \n",
    "    return (r1, c1), (r2, c2)\n",
    "\n",
    "\n",
    "from PIL import Image\n",
    "\n",
    "img = np.array(Image.open('./bin_image.png').convert('L')) > 0\n",
    "print(\"Minimum bounding box:\", bbox(img))"
   ]
  },
  {
   "cell_type": "markdown",
   "metadata": {},
   "source": [
    "**23. Write a function to compute the average over a sliding window of length N over a 1D array**\n",
    "\n",
    "*Example:* [1, 2, 3, 4, 5, 6, 7, 8, 9], N = 3 -> [2, 5, 8]"
   ]
  },
  {
   "cell_type": "code",
   "execution_count": 32,
   "metadata": {},
   "outputs": [
    {
     "name": "stdout",
     "output_type": "stream",
     "text": [
      "Original array: [ 0  1  2  3  4  5  6  7  8  9 10 11 12 13 14 15 16 17 18 19 20 21 22 23\n",
      " 24 25 26 27 28 29]\n",
      "Sliding window moving average: [ 1.  4.  7. 10. 13. 16. 19. 22. 25. 28.]\n"
     ]
    }
   ],
   "source": [
    "def moving_average(x, N=3):\n",
    "    # Pad array with zeros if the size of array x is not a multiple of N\n",
    "    if x.size % N != 0:\n",
    "        x = np.pad(x, (0, x.size % N))\n",
    "    \n",
    "    # Reshape the array to be 2D where each row has N elements and calculate the average of each\n",
    "    x = x.reshape(int(x.size / N), N)\n",
    "    x = x.sum(axis=1) / N\n",
    "\n",
    "    # Flatten back to a 1D array\n",
    "    x = x.flatten()\n",
    "\n",
    "    return x\n",
    "\n",
    "\n",
    "a = np.arange(30)\n",
    "N = 3\n",
    "print(\"Original array:\", a)\n",
    "print(\"Sliding window moving average:\", moving_average(a, N))"
   ]
  },
  {
   "cell_type": "markdown",
   "metadata": {},
   "source": [
    "**24.  Given a sorted 1D array C that corresponds to a bincount, how to produce an array A such that np.bincount(A) == C?**\n",
    "\n",
    "*Example:* C = [3, 2, 4] -> D = [0, 0, 0, 1, 1, 2, 2, 2, 2]\n",
    "\n",
    "*Tip:* Consider using the NumPy repeat function"
   ]
  },
  {
   "cell_type": "code",
   "execution_count": 33,
   "metadata": {},
   "outputs": [
    {
     "name": "stdout",
     "output_type": "stream",
     "text": [
      "bincount array C = [0 2 1 1 2 0 1]\n",
      "\n",
      "Inverse bincount array A = [1 1 2 3 4 4 6]\n",
      "Verify bincount: [0 2 1 1 2 0 1]\n"
     ]
    }
   ],
   "source": [
    "C = np.bincount([1, 1, 2, 3, 4, 4, 6])\n",
    "print(\"bincount array C =\", C)\n",
    "\n",
    "# Repeat the elements in A using the values of C\n",
    "A = np.repeat(np.arange(C.size), C)\n",
    "\n",
    "print(\"\\nInverse bincount array A =\", A)\n",
    "print(\"Verify bincount:\", np.bincount(A))"
   ]
  },
  {
   "cell_type": "markdown",
   "metadata": {},
   "source": [
    "**25. Find the most frequent value in the array below?**"
   ]
  },
  {
   "cell_type": "code",
   "execution_count": 46,
   "metadata": {},
   "outputs": [
    {
     "name": "stdout",
     "output_type": "stream",
     "text": [
      "Original array:\n",
      " [2 9 8 0 3 3 2 6 4 8 8 9 4 7 8 6 6 6 1 8 1 3 0 0 3 1 5 8 2 0 3 9 2 4 4 0 3\n",
      " 8 1 0 9 7 9 3 7 4 2 5 5 3]\n",
      "Most frequent array value: 3\n"
     ]
    }
   ],
   "source": [
    "Z = np.random.randint(0, 10, 50)\n",
    "\n",
    "# Record the instances of each number in the array\n",
    "Z_counts = np.bincount(Z)\n",
    "\n",
    "# Retrive the number with the maximum number of instances\n",
    "Z_max = np.argmax(Z_counts)\n",
    "\n",
    "print(\"Original array:\\n\", Z)\n",
    "print(\"Most frequent array value:\", Z_max)"
   ]
  },
  {
   "cell_type": "markdown",
   "metadata": {},
   "source": [
    "**26. Write a function to return the n largest values of an array** "
   ]
  },
  {
   "cell_type": "code",
   "execution_count": 48,
   "metadata": {},
   "outputs": [
    {
     "name": "stdout",
     "output_type": "stream",
     "text": [
      "n largest values of the array: [9999 9998 9997 9996 9995]\n"
     ]
    }
   ],
   "source": [
    "def nlargest(a, n=5):\n",
    "    # Sort the array in ascending order\n",
    "    a.sort()\n",
    "\n",
    "    # Reverse array to descending order and return the first n elements\n",
    "    return a[::-1][0:n]\n",
    "\n",
    "\n",
    "Z = np.arange(10000)\n",
    "np.random.shuffle(Z)\n",
    "n = 5\n",
    "print(\"n largest values of the array:\", nlargest(Z, n))    "
   ]
  },
  {
   "cell_type": "markdown",
   "id": "c51cf120",
   "metadata": {},
   "source": [
    "## Team Contributions\n",
    "\n",
    "All team members worked on the Jupyter notebook individually and met together to discuss and choose the best answer for each question.\n",
    "\n",
    "| Team Member      | Consensus Score |\n",
    "| ---------------- | --------------- |\n",
    "| Brandon Attai    | 3               |\n",
    "| Tahsin Chowdhury | 3               |\n",
    "| Kelten Falez     | 3               |\n",
    "| Timothy Mok      | 3               |\n",
    "| Aron Saengchan   | 3               |\n",
    "| Yong Jun Zhu     | 3               |"
   ]
  }
 ],
 "metadata": {
  "kernelspec": {
   "display_name": "Python 3",
   "language": "python",
   "name": "python3"
  },
  "language_info": {
   "codemirror_mode": {
    "name": "ipython",
    "version": 3
   },
   "file_extension": ".py",
   "mimetype": "text/x-python",
   "name": "python",
   "nbconvert_exporter": "python",
   "pygments_lexer": "ipython3",
   "version": "3.9.7"
  }
 },
 "nbformat": 4,
 "nbformat_minor": 5
}
